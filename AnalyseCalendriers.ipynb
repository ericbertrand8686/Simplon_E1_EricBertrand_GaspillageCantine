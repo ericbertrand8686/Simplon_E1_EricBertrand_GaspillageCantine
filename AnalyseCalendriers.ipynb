{
 "cells": [
  {
   "cell_type": "code",
   "execution_count": 1,
   "metadata": {},
   "outputs": [],
   "source": [
    "import pandas as pd\n",
    "import numpy as np\n",
    "import matplotlib.pyplot as plt\n",
    "import datetime, os\n"
   ]
  },
  {
   "cell_type": "code",
   "execution_count": 5,
   "metadata": {},
   "outputs": [
    {
     "data": {
      "text/plain": [
       "['code_etablissement.csv',\n",
       " 'Effectifs_ecoles.csv',\n",
       " 'fetes_chretiennes.csv',\n",
       " 'fetes_juives.csv',\n",
       " 'fetes_musulmanes.csv',\n",
       " 'frequentation_cantines_v3.csv',\n",
       " 'incidence RDD 3.csv',\n",
       " 'incidence RDD 6.csv',\n",
       " 'incidence RDD 7.csv',\n",
       " 'Journees_de_greve.csv',\n",
       " 'jours-feries-seuls.csv',\n",
       " 'key_jours.xlsx',\n",
       " 'Liste ETS_geo_AE12102020.xlsx',\n",
       " 'menus_2011-2015.csv',\n",
       " 'menus_2016-2019.csv',\n",
       " 'missing_strikes.xlsx',\n",
       " 'mouvements-sociaux-depuis-2002.csv',\n",
       " 'mouvements-sociaux-depuis-2002.json',\n",
       " 'orga_des_etablissements.xlsx',\n",
       " 'ramadan.csv',\n",
       " 'vacances_Nantes_2011-2019.csv']"
      ]
     },
     "execution_count": 5,
     "metadata": {},
     "output_type": "execute_result"
    }
   ],
   "source": [
    "df_files = os.listdir('data/DataGithub/')\n",
    "df_files"
   ]
  },
  {
   "cell_type": "code",
   "execution_count": null,
   "metadata": {},
   "outputs": [],
   "source": [
    "df_effectifs = pd.read_csv('data/data-brut/effectifs-eleves-ecoles-publiques-maternelles-elementaires-nantes.csv', sep=';')\n",
    "df_effectifs.shape"
   ]
  }
 ],
 "metadata": {
  "kernelspec": {
   "display_name": "Python 3",
   "language": "python",
   "name": "python3"
  },
  "language_info": {
   "codemirror_mode": {
    "name": "ipython",
    "version": 3
   },
   "file_extension": ".py",
   "mimetype": "text/x-python",
   "name": "python",
   "nbconvert_exporter": "python",
   "pygments_lexer": "ipython3",
   "version": "3.10.10"
  },
  "orig_nbformat": 4,
  "vscode": {
   "interpreter": {
    "hash": "6cd296cbf4053a518fd76b85d2c9ab905c5973094489634866e40cbfd15a8405"
   }
  }
 },
 "nbformat": 4,
 "nbformat_minor": 2
}
