{
 "cells": [
  {
   "cell_type": "code",
   "execution_count": 266,
   "metadata": {},
   "outputs": [],
   "source": [
    "import pandas as pd\n",
    "import numpy as np\n",
    "import matplotlib.pyplot as plt\n",
    "import datetime"
   ]
  },
  {
   "cell_type": "code",
   "execution_count": 267,
   "metadata": {},
   "outputs": [
    {
     "data": {
      "text/plain": [
       "(138564, 9)"
      ]
     },
     "execution_count": 267,
     "metadata": {},
     "output_type": "execute_result"
    }
   ],
   "source": [
    "# Chargement des données\n",
    "df_repas = pd.read_csv('../../data/SiteNantes/CSV/244400404_nombre-convives-jour-cantine-nantes-2011.csv', sep=';')\n",
    "df_repas.shape"
   ]
  },
  {
   "cell_type": "code",
   "execution_count": 268,
   "metadata": {},
   "outputs": [
    {
     "data": {
      "text/html": [
       "<div>\n",
       "<style scoped>\n",
       "    .dataframe tbody tr th:only-of-type {\n",
       "        vertical-align: middle;\n",
       "    }\n",
       "\n",
       "    .dataframe tbody tr th {\n",
       "        vertical-align: top;\n",
       "    }\n",
       "\n",
       "    .dataframe thead th {\n",
       "        text-align: right;\n",
       "    }\n",
       "</style>\n",
       "<table border=\"1\" class=\"dataframe\">\n",
       "  <thead>\n",
       "    <tr style=\"text-align: right;\">\n",
       "      <th></th>\n",
       "      <th>Identifiant du site</th>\n",
       "      <th>Type de site</th>\n",
       "      <th>Date</th>\n",
       "      <th>Prévision</th>\n",
       "      <th>Réel</th>\n",
       "      <th>Nom du site</th>\n",
       "      <th>Nom du site système</th>\n",
       "      <th>Réel système</th>\n",
       "      <th>Prévision système</th>\n",
       "    </tr>\n",
       "  </thead>\n",
       "  <tbody>\n",
       "    <tr>\n",
       "      <th>0</th>\n",
       "      <td>NaN</td>\n",
       "      <td>M/E</td>\n",
       "      <td>2011-09-06</td>\n",
       "      <td>290.0</td>\n",
       "      <td>271.0</td>\n",
       "      <td>LEDRU ROLLIN/SARAH BERNHARDT</td>\n",
       "      <td>NaN</td>\n",
       "      <td>NaN</td>\n",
       "      <td>NaN</td>\n",
       "    </tr>\n",
       "    <tr>\n",
       "      <th>1</th>\n",
       "      <td>NaN</td>\n",
       "      <td>M/E</td>\n",
       "      <td>2011-09-05</td>\n",
       "      <td>95.0</td>\n",
       "      <td>102.0</td>\n",
       "      <td>BEAUJOIRE</td>\n",
       "      <td>NaN</td>\n",
       "      <td>NaN</td>\n",
       "      <td>NaN</td>\n",
       "    </tr>\n",
       "    <tr>\n",
       "      <th>2</th>\n",
       "      <td>NaN</td>\n",
       "      <td>M/E</td>\n",
       "      <td>2011-09-05</td>\n",
       "      <td>167.0</td>\n",
       "      <td>171.0</td>\n",
       "      <td>CONTRIE</td>\n",
       "      <td>NaN</td>\n",
       "      <td>NaN</td>\n",
       "      <td>NaN</td>\n",
       "    </tr>\n",
       "    <tr>\n",
       "      <th>3</th>\n",
       "      <td>NaN</td>\n",
       "      <td>M</td>\n",
       "      <td>2011-09-05</td>\n",
       "      <td>80.0</td>\n",
       "      <td>64.0</td>\n",
       "      <td>COUDRAY M.</td>\n",
       "      <td>NaN</td>\n",
       "      <td>NaN</td>\n",
       "      <td>NaN</td>\n",
       "    </tr>\n",
       "    <tr>\n",
       "      <th>4</th>\n",
       "      <td>NaN</td>\n",
       "      <td>M</td>\n",
       "      <td>2011-09-05</td>\n",
       "      <td>73.0</td>\n",
       "      <td>77.0</td>\n",
       "      <td>FONTENY</td>\n",
       "      <td>NaN</td>\n",
       "      <td>NaN</td>\n",
       "      <td>NaN</td>\n",
       "    </tr>\n",
       "  </tbody>\n",
       "</table>\n",
       "</div>"
      ],
      "text/plain": [
       "   Identifiant du site Type de site        Date  Prévision   Réel  \\\n",
       "0                  NaN          M/E  2011-09-06      290.0  271.0   \n",
       "1                  NaN          M/E  2011-09-05       95.0  102.0   \n",
       "2                  NaN          M/E  2011-09-05      167.0  171.0   \n",
       "3                  NaN            M  2011-09-05       80.0   64.0   \n",
       "4                  NaN            M  2011-09-05       73.0   77.0   \n",
       "\n",
       "                    Nom du site Nom du site système  Réel système  \\\n",
       "0  LEDRU ROLLIN/SARAH BERNHARDT                 NaN           NaN   \n",
       "1                     BEAUJOIRE                 NaN           NaN   \n",
       "2                       CONTRIE                 NaN           NaN   \n",
       "3                    COUDRAY M.                 NaN           NaN   \n",
       "4                       FONTENY                 NaN           NaN   \n",
       "\n",
       "   Prévision système  \n",
       "0                NaN  \n",
       "1                NaN  \n",
       "2                NaN  \n",
       "3                NaN  \n",
       "4                NaN  "
      ]
     },
     "execution_count": 268,
     "metadata": {},
     "output_type": "execute_result"
    }
   ],
   "source": [
    "df_repas.head()"
   ]
  },
  {
   "attachments": {},
   "cell_type": "markdown",
   "metadata": {},
   "source": [
    "On a bien chargé les données "
   ]
  },
  {
   "cell_type": "code",
   "execution_count": 269,
   "metadata": {},
   "outputs": [
    {
     "data": {
      "text/plain": [
       "Index(['Identifiant du site', 'Type de site', 'Date', 'Prévision', 'Réel',\n",
       "       'Nom du site', 'Nom du site système', 'Réel système',\n",
       "       'Prévision système'],\n",
       "      dtype='object')"
      ]
     },
     "execution_count": 269,
     "metadata": {},
     "output_type": "execute_result"
    }
   ],
   "source": [
    "df_repas.keys()"
   ]
  },
  {
   "cell_type": "code",
   "execution_count": 270,
   "metadata": {},
   "outputs": [
    {
     "data": {
      "text/plain": [
       "Identifiant du site    26505\n",
       "Type de site               0\n",
       "Date                       0\n",
       "Prévision               4223\n",
       "Réel                    4210\n",
       "Nom du site                0\n",
       "Nom du site système    56334\n",
       "Réel système           56334\n",
       "Prévision système      56334\n",
       "dtype: int64"
      ]
     },
     "execution_count": 270,
     "metadata": {},
     "output_type": "execute_result"
    }
   ],
   "source": [
    "df_repas.isna().sum()"
   ]
  },
  {
   "attachments": {},
   "cell_type": "markdown",
   "metadata": {},
   "source": [
    "Les paramètres suivants ont trop de valeurs manquantes pour être exploitables :\n",
    "\n",
    ">Nom du site système  \n",
    ">Réel système  \n",
    ">Prévision système  \n",
    "\n",
    "En outre les valeurs existantes sont driectement corrélées à Nom du site, Réel, Prévision et n'apportent pas d'information supplémentaire. On peut donc éliminer ces colonnes ainsi que l'identifiant. "
   ]
  },
  {
   "cell_type": "code",
   "execution_count": 271,
   "metadata": {},
   "outputs": [
    {
     "data": {
      "text/plain": [
       "Index(['Type de site', 'Date', 'Prévision', 'Réel', 'Nom du site'], dtype='object')"
      ]
     },
     "execution_count": 271,
     "metadata": {},
     "output_type": "execute_result"
    }
   ],
   "source": [
    "df_repas.drop(['Identifiant du site', 'Nom du site système', 'Réel système', 'Prévision système'],  axis=1, inplace=True)\n",
    "df_repas.keys()"
   ]
  },
  {
   "cell_type": "code",
   "execution_count": 272,
   "metadata": {},
   "outputs": [
    {
     "data": {
      "text/plain": [
       "Type de site       0\n",
       "Date               0\n",
       "Prévision       4223\n",
       "Réel            4210\n",
       "Nom du site        0\n",
       "dtype: int64"
      ]
     },
     "execution_count": 272,
     "metadata": {},
     "output_type": "execute_result"
    }
   ],
   "source": [
    "df_repas.isna().sum()"
   ]
  },
  {
   "cell_type": "code",
   "execution_count": 273,
   "metadata": {},
   "outputs": [
    {
     "data": {
      "text/html": [
       "<div>\n",
       "<style scoped>\n",
       "    .dataframe tbody tr th:only-of-type {\n",
       "        vertical-align: middle;\n",
       "    }\n",
       "\n",
       "    .dataframe tbody tr th {\n",
       "        vertical-align: top;\n",
       "    }\n",
       "\n",
       "    .dataframe thead th {\n",
       "        text-align: right;\n",
       "    }\n",
       "</style>\n",
       "<table border=\"1\" class=\"dataframe\">\n",
       "  <thead>\n",
       "    <tr style=\"text-align: right;\">\n",
       "      <th></th>\n",
       "      <th>Type de site</th>\n",
       "      <th>Date</th>\n",
       "      <th>Prévision</th>\n",
       "      <th>Réel</th>\n",
       "      <th>Nom du site</th>\n",
       "    </tr>\n",
       "  </thead>\n",
       "  <tbody>\n",
       "    <tr>\n",
       "      <th>39230</th>\n",
       "      <td>E</td>\n",
       "      <td>2020-04-08</td>\n",
       "      <td>NaN</td>\n",
       "      <td>NaN</td>\n",
       "      <td>102 COUDRAY ELEM</td>\n",
       "    </tr>\n",
       "    <tr>\n",
       "      <th>31984</th>\n",
       "      <td>E</td>\n",
       "      <td>2020-04-01</td>\n",
       "      <td>NaN</td>\n",
       "      <td>NaN</td>\n",
       "      <td>102 COUDRAY ELEM</td>\n",
       "    </tr>\n",
       "    <tr>\n",
       "      <th>104871</th>\n",
       "      <td>M/E</td>\n",
       "      <td>2020-04-01</td>\n",
       "      <td>NaN</td>\n",
       "      <td>NaN</td>\n",
       "      <td>104 BATIGNOLLES MAT/ELEM</td>\n",
       "    </tr>\n",
       "    <tr>\n",
       "      <th>104826</th>\n",
       "      <td>M/E</td>\n",
       "      <td>2020-04-08</td>\n",
       "      <td>NaN</td>\n",
       "      <td>NaN</td>\n",
       "      <td>104 BATIGNOLLES MAT/ELEM</td>\n",
       "    </tr>\n",
       "    <tr>\n",
       "      <th>8590</th>\n",
       "      <td>M/E</td>\n",
       "      <td>2020-04-08</td>\n",
       "      <td>NaN</td>\n",
       "      <td>NaN</td>\n",
       "      <td>105 LOUIS PERGAUD MAT/ELEM</td>\n",
       "    </tr>\n",
       "    <tr>\n",
       "      <th>...</th>\n",
       "      <td>...</td>\n",
       "      <td>...</td>\n",
       "      <td>...</td>\n",
       "      <td>...</td>\n",
       "      <td>...</td>\n",
       "    </tr>\n",
       "    <tr>\n",
       "      <th>42642</th>\n",
       "      <td>M/E</td>\n",
       "      <td>2022-03-22</td>\n",
       "      <td>111.0</td>\n",
       "      <td>109.0</td>\n",
       "      <td>VILLA MARIA</td>\n",
       "    </tr>\n",
       "    <tr>\n",
       "      <th>19840</th>\n",
       "      <td>M/E</td>\n",
       "      <td>2016-11-22</td>\n",
       "      <td>148.0</td>\n",
       "      <td>143.0</td>\n",
       "      <td>VILLA MARIA</td>\n",
       "    </tr>\n",
       "    <tr>\n",
       "      <th>30288</th>\n",
       "      <td>M/E</td>\n",
       "      <td>2021-05-28</td>\n",
       "      <td>105.0</td>\n",
       "      <td>107.0</td>\n",
       "      <td>VILLA MARIA</td>\n",
       "    </tr>\n",
       "    <tr>\n",
       "      <th>117786</th>\n",
       "      <td>M/E</td>\n",
       "      <td>2013-12-05</td>\n",
       "      <td>NaN</td>\n",
       "      <td>NaN</td>\n",
       "      <td>VILLA MARIA</td>\n",
       "    </tr>\n",
       "    <tr>\n",
       "      <th>13007</th>\n",
       "      <td>M/E</td>\n",
       "      <td>2018-11-13</td>\n",
       "      <td>106.0</td>\n",
       "      <td>124.0</td>\n",
       "      <td>VILLA MARIA</td>\n",
       "    </tr>\n",
       "  </tbody>\n",
       "</table>\n",
       "<p>138564 rows × 5 columns</p>\n",
       "</div>"
      ],
      "text/plain": [
       "       Type de site        Date  Prévision   Réel                 Nom du site\n",
       "39230             E  2020-04-08        NaN    NaN            102 COUDRAY ELEM\n",
       "31984             E  2020-04-01        NaN    NaN            102 COUDRAY ELEM\n",
       "104871          M/E  2020-04-01        NaN    NaN    104 BATIGNOLLES MAT/ELEM\n",
       "104826          M/E  2020-04-08        NaN    NaN    104 BATIGNOLLES MAT/ELEM\n",
       "8590            M/E  2020-04-08        NaN    NaN  105 LOUIS PERGAUD MAT/ELEM\n",
       "...             ...         ...        ...    ...                         ...\n",
       "42642           M/E  2022-03-22      111.0  109.0                 VILLA MARIA\n",
       "19840           M/E  2016-11-22      148.0  143.0                 VILLA MARIA\n",
       "30288           M/E  2021-05-28      105.0  107.0                 VILLA MARIA\n",
       "117786          M/E  2013-12-05        NaN    NaN                 VILLA MARIA\n",
       "13007           M/E  2018-11-13      106.0  124.0                 VILLA MARIA\n",
       "\n",
       "[138564 rows x 5 columns]"
      ]
     },
     "execution_count": 273,
     "metadata": {},
     "output_type": "execute_result"
    }
   ],
   "source": [
    "# Avec un sorting sur le nom on fait ressortir des entrées avec des valeurs manquantes\n",
    "df_repas.sort_values(['Nom du site'], axis=0, ascending=True)"
   ]
  },
  {
   "attachments": {},
   "cell_type": "markdown",
   "metadata": {},
   "source": [
    "Ici on retrouve les noms de sites \"anormaux\" débutants par un code à trois chiffres et avec un nombre de repas servis manquants."
   ]
  },
  {
   "cell_type": "code",
   "execution_count": 274,
   "metadata": {},
   "outputs": [
    {
     "data": {
      "text/plain": [
       "Type de site      0\n",
       "Date              0\n",
       "Prévision       958\n",
       "Réel              0\n",
       "Nom du site       0\n",
       "dtype: int64"
      ]
     },
     "execution_count": 274,
     "metadata": {},
     "output_type": "execute_result"
    }
   ],
   "source": [
    "df_repas.dropna(subset=['Réel'], axis=0, inplace=True)\n",
    "df_repas.isna().sum()"
   ]
  },
  {
   "cell_type": "code",
   "execution_count": 275,
   "metadata": {},
   "outputs": [
    {
     "data": {
      "text/html": [
       "<div>\n",
       "<style scoped>\n",
       "    .dataframe tbody tr th:only-of-type {\n",
       "        vertical-align: middle;\n",
       "    }\n",
       "\n",
       "    .dataframe tbody tr th {\n",
       "        vertical-align: top;\n",
       "    }\n",
       "\n",
       "    .dataframe thead th {\n",
       "        text-align: right;\n",
       "    }\n",
       "</style>\n",
       "<table border=\"1\" class=\"dataframe\">\n",
       "  <thead>\n",
       "    <tr style=\"text-align: right;\">\n",
       "      <th></th>\n",
       "      <th>Type de site</th>\n",
       "      <th>Date</th>\n",
       "      <th>Prévision</th>\n",
       "      <th>Réel</th>\n",
       "      <th>Nom du site</th>\n",
       "    </tr>\n",
       "  </thead>\n",
       "  <tbody>\n",
       "    <tr>\n",
       "      <th>39219</th>\n",
       "      <td>M</td>\n",
       "      <td>2020-04-08</td>\n",
       "      <td>0.0</td>\n",
       "      <td>10.0</td>\n",
       "      <td>606 JOSEPH BLANCHART MAT</td>\n",
       "    </tr>\n",
       "    <tr>\n",
       "      <th>8627</th>\n",
       "      <td>M</td>\n",
       "      <td>2020-04-01</td>\n",
       "      <td>0.0</td>\n",
       "      <td>25.0</td>\n",
       "      <td>606 JOSEPH BLANCHART MAT</td>\n",
       "    </tr>\n",
       "    <tr>\n",
       "      <th>5724</th>\n",
       "      <td>M/E</td>\n",
       "      <td>2022-02-01</td>\n",
       "      <td>366.0</td>\n",
       "      <td>282.0</td>\n",
       "      <td>AGENETS</td>\n",
       "    </tr>\n",
       "    <tr>\n",
       "      <th>49990</th>\n",
       "      <td>M/E</td>\n",
       "      <td>2014-06-20</td>\n",
       "      <td>265.0</td>\n",
       "      <td>227.0</td>\n",
       "      <td>AGENETS</td>\n",
       "    </tr>\n",
       "    <tr>\n",
       "      <th>11618</th>\n",
       "      <td>M/E</td>\n",
       "      <td>2015-04-30</td>\n",
       "      <td>295.0</td>\n",
       "      <td>281.0</td>\n",
       "      <td>AGENETS</td>\n",
       "    </tr>\n",
       "    <tr>\n",
       "      <th>...</th>\n",
       "      <td>...</td>\n",
       "      <td>...</td>\n",
       "      <td>...</td>\n",
       "      <td>...</td>\n",
       "      <td>...</td>\n",
       "    </tr>\n",
       "    <tr>\n",
       "      <th>28470</th>\n",
       "      <td>M/E</td>\n",
       "      <td>2017-09-25</td>\n",
       "      <td>109.0</td>\n",
       "      <td>114.0</td>\n",
       "      <td>VILLA MARIA</td>\n",
       "    </tr>\n",
       "    <tr>\n",
       "      <th>104798</th>\n",
       "      <td>M/E</td>\n",
       "      <td>2020-04-10</td>\n",
       "      <td>0.0</td>\n",
       "      <td>0.0</td>\n",
       "      <td>VILLA MARIA</td>\n",
       "    </tr>\n",
       "    <tr>\n",
       "      <th>14473</th>\n",
       "      <td>M/E</td>\n",
       "      <td>2017-11-20</td>\n",
       "      <td>112.0</td>\n",
       "      <td>120.0</td>\n",
       "      <td>VILLA MARIA</td>\n",
       "    </tr>\n",
       "    <tr>\n",
       "      <th>8593</th>\n",
       "      <td>M/E</td>\n",
       "      <td>2020-04-07</td>\n",
       "      <td>0.0</td>\n",
       "      <td>0.0</td>\n",
       "      <td>VILLA MARIA</td>\n",
       "    </tr>\n",
       "    <tr>\n",
       "      <th>36154</th>\n",
       "      <td>M/E</td>\n",
       "      <td>2012-05-04</td>\n",
       "      <td>121.0</td>\n",
       "      <td>108.0</td>\n",
       "      <td>VILLA MARIA</td>\n",
       "    </tr>\n",
       "  </tbody>\n",
       "</table>\n",
       "<p>134354 rows × 5 columns</p>\n",
       "</div>"
      ],
      "text/plain": [
       "       Type de site        Date  Prévision   Réel               Nom du site\n",
       "39219             M  2020-04-08        0.0   10.0  606 JOSEPH BLANCHART MAT\n",
       "8627              M  2020-04-01        0.0   25.0  606 JOSEPH BLANCHART MAT\n",
       "5724            M/E  2022-02-01      366.0  282.0                   AGENETS\n",
       "49990           M/E  2014-06-20      265.0  227.0                   AGENETS\n",
       "11618           M/E  2015-04-30      295.0  281.0                   AGENETS\n",
       "...             ...         ...        ...    ...                       ...\n",
       "28470           M/E  2017-09-25      109.0  114.0               VILLA MARIA\n",
       "104798          M/E  2020-04-10        0.0    0.0               VILLA MARIA\n",
       "14473           M/E  2017-11-20      112.0  120.0               VILLA MARIA\n",
       "8593            M/E  2020-04-07        0.0    0.0               VILLA MARIA\n",
       "36154           M/E  2012-05-04      121.0  108.0               VILLA MARIA\n",
       "\n",
       "[134354 rows x 5 columns]"
      ]
     },
     "execution_count": 275,
     "metadata": {},
     "output_type": "execute_result"
    }
   ],
   "source": [
    "df_repas.sort_values(['Nom du site'], axis=0, ascending=True)"
   ]
  },
  {
   "attachments": {},
   "cell_type": "markdown",
   "metadata": {},
   "source": [
    "On va aussi enlever l'établissement 606 JOSEPH BLANCHART MAT"
   ]
  },
  {
   "cell_type": "code",
   "execution_count": 276,
   "metadata": {},
   "outputs": [
    {
     "data": {
      "text/plain": [
       "0"
      ]
     },
     "execution_count": 276,
     "metadata": {},
     "output_type": "execute_result"
    }
   ],
   "source": [
    "df_repas= df_repas[df_repas['Nom du site']!='606 JOSEPH BLANCHART MAT']\n",
    "(df_repas['Nom du site']=='606 JOSEPH BLANCHART MAT').sum()"
   ]
  },
  {
   "attachments": {},
   "cell_type": "markdown",
   "metadata": {},
   "source": [
    "Maintenant nous allons corriger les fautes d'orthographe sur le nom des établissements :\n",
    "CHENE DARON, GEORGES SAND et COTE DOR"
   ]
  },
  {
   "cell_type": "code",
   "execution_count": 277,
   "metadata": {},
   "outputs": [
    {
     "data": {
      "text/plain": [
       "0"
      ]
     },
     "execution_count": 277,
     "metadata": {},
     "output_type": "execute_result"
    }
   ],
   "source": [
    "# Nom erroné\n",
    "(df_repas['Nom du site']==\"CHENE DARON\").sum()"
   ]
  },
  {
   "cell_type": "code",
   "execution_count": 278,
   "metadata": {},
   "outputs": [
    {
     "data": {
      "text/plain": [
       "1016"
      ]
     },
     "execution_count": 278,
     "metadata": {},
     "output_type": "execute_result"
    }
   ],
   "source": [
    "# Nom correct\n",
    "(df_repas['Nom du site']==\"CHENE D'ARON\").sum()"
   ]
  },
  {
   "cell_type": "code",
   "execution_count": 279,
   "metadata": {},
   "outputs": [
    {
     "data": {
      "text/plain": [
       "1268"
      ]
     },
     "execution_count": 279,
     "metadata": {},
     "output_type": "execute_result"
    }
   ],
   "source": [
    "# Nom erroné\n",
    "(df_repas['Nom du site']==\"GEORGES SAND\").sum()"
   ]
  },
  {
   "cell_type": "code",
   "execution_count": 280,
   "metadata": {},
   "outputs": [
    {
     "data": {
      "text/plain": [
       "264"
      ]
     },
     "execution_count": 280,
     "metadata": {},
     "output_type": "execute_result"
    }
   ],
   "source": [
    "# Nom correct\n",
    "(df_repas['Nom du site']==\"GEORGE SAND\").sum()"
   ]
  },
  {
   "cell_type": "code",
   "execution_count": 281,
   "metadata": {},
   "outputs": [
    {
     "data": {
      "text/plain": [
       "0"
      ]
     },
     "execution_count": 281,
     "metadata": {},
     "output_type": "execute_result"
    }
   ],
   "source": [
    "# Nom erroné\n",
    "(df_repas['Nom du site']==\"COTE DOR\").sum()"
   ]
  },
  {
   "cell_type": "code",
   "execution_count": 282,
   "metadata": {},
   "outputs": [
    {
     "data": {
      "text/plain": [
       "1511"
      ]
     },
     "execution_count": 282,
     "metadata": {},
     "output_type": "execute_result"
    }
   ],
   "source": [
    "# Nom correct\n",
    "(df_repas['Nom du site']==\"COTE D'OR\").sum()"
   ]
  },
  {
   "attachments": {},
   "cell_type": "markdown",
   "metadata": {},
   "source": [
    "L'élimination des valeurs manquantes a permis d'éliminer 2 fautes d'orthographes sur 3. Il ne reste plus qu'à régler le cas \"GEORGE SAND\"."
   ]
  },
  {
   "cell_type": "code",
   "execution_count": 283,
   "metadata": {},
   "outputs": [],
   "source": [
    "df_repas['Nom du site'] = df_repas['Nom du site'].replace({'GEORGES SAND':'GEORGE SAND'})"
   ]
  },
  {
   "cell_type": "code",
   "execution_count": 284,
   "metadata": {},
   "outputs": [
    {
     "data": {
      "text/plain": [
       "0"
      ]
     },
     "execution_count": 284,
     "metadata": {},
     "output_type": "execute_result"
    }
   ],
   "source": [
    "# Nom erroné\n",
    "(df_repas['Nom du site']==\"GEORGES SAND\").sum()"
   ]
  },
  {
   "cell_type": "code",
   "execution_count": 285,
   "metadata": {},
   "outputs": [
    {
     "data": {
      "text/plain": [
       "1532"
      ]
     },
     "execution_count": 285,
     "metadata": {},
     "output_type": "execute_result"
    }
   ],
   "source": [
    "# Nom correct\n",
    "(df_repas['Nom du site']==\"GEORGE SAND\").sum()"
   ]
  },
  {
   "attachments": {},
   "cell_type": "markdown",
   "metadata": {},
   "source": [
    "Pour nos besoins nous avons essentiellement besoin d'avoir les valeurs réelles pour effectuer notre propre prédiction.\n",
    "Nous pouvons garder la colonne 'Prévision' à titre de comparaison avec notre prédiction."
   ]
  },
  {
   "cell_type": "code",
   "execution_count": 286,
   "metadata": {},
   "outputs": [
    {
     "data": {
      "text/plain": [
       "Type de site       0\n",
       "Date               0\n",
       "Prévision       2689\n",
       "Réel            4014\n",
       "Nom du site        0\n",
       "dtype: int64"
      ]
     },
     "execution_count": 286,
     "metadata": {},
     "output_type": "execute_result"
    }
   ],
   "source": [
    "(df_repas==0).sum()"
   ]
  },
  {
   "attachments": {},
   "cell_type": "markdown",
   "metadata": {},
   "source": [
    "Cela nous fait beaucoup de zéros dans les valeurs alors que cette valeur ne fait pas vraiment sens."
   ]
  },
  {
   "cell_type": "code",
   "execution_count": 287,
   "metadata": {},
   "outputs": [
    {
     "data": {
      "text/plain": [
       "4991"
      ]
     },
     "execution_count": 287,
     "metadata": {},
     "output_type": "execute_result"
    }
   ],
   "source": [
    "(df_repas['Réel']<10).sum()"
   ]
  },
  {
   "cell_type": "code",
   "execution_count": 288,
   "metadata": {},
   "outputs": [
    {
     "data": {
      "text/plain": [
       "5643"
      ]
     },
     "execution_count": 288,
     "metadata": {},
     "output_type": "execute_result"
    }
   ],
   "source": [
    "(df_repas['Réel']<20).sum()"
   ]
  },
  {
   "attachments": {},
   "cell_type": "markdown",
   "metadata": {},
   "source": [
    "On voit qu'en plus des zéros on trouve aussi des valeurs trés faibles qui ne semblent pas compatibles avec le fonctionnement normal d'une cantine."
   ]
  },
  {
   "cell_type": "code",
   "execution_count": 289,
   "metadata": {},
   "outputs": [
    {
     "data": {
      "text/plain": [
       "30"
      ]
     },
     "execution_count": 289,
     "metadata": {},
     "output_type": "execute_result"
    }
   ],
   "source": [
    "(df_repas['Réel']>600).sum()"
   ]
  },
  {
   "cell_type": "code",
   "execution_count": 290,
   "metadata": {},
   "outputs": [
    {
     "data": {
      "text/plain": [
       "16"
      ]
     },
     "execution_count": 290,
     "metadata": {},
     "output_type": "execute_result"
    }
   ],
   "source": [
    "(df_repas['Réel']>1000).sum()"
   ]
  },
  {
   "cell_type": "code",
   "execution_count": 291,
   "metadata": {},
   "outputs": [
    {
     "data": {
      "text/plain": [
       "121552.0"
      ]
     },
     "execution_count": 291,
     "metadata": {},
     "output_type": "execute_result"
    }
   ],
   "source": [
    "df_repas['Réel'].max()"
   ]
  },
  {
   "attachments": {},
   "cell_type": "markdown",
   "metadata": {},
   "source": [
    "On trouve aussi des valeurs hautes qui n'ont juste pas de sens : aucune des cantines ne peut accueillir des effectifs supérieurs à 1000."
   ]
  },
  {
   "cell_type": "code",
   "execution_count": 292,
   "metadata": {},
   "outputs": [
    {
     "data": {
      "text/plain": [
       "0"
      ]
     },
     "execution_count": 292,
     "metadata": {},
     "output_type": "execute_result"
    }
   ],
   "source": [
    "df_repas= df_repas[df_repas['Réel']<=1000]\n",
    "(df_repas['Réel']>1000).sum()"
   ]
  },
  {
   "cell_type": "code",
   "execution_count": 293,
   "metadata": {},
   "outputs": [
    {
     "data": {
      "text/plain": [
       "(134336, 5)"
      ]
     },
     "execution_count": 293,
     "metadata": {},
     "output_type": "execute_result"
    }
   ],
   "source": [
    "df_repas.shape"
   ]
  },
  {
   "cell_type": "code",
   "execution_count": 294,
   "metadata": {},
   "outputs": [
    {
     "data": {
      "text/plain": [
       "array([[<AxesSubplot:title={'center':'Réel'}>]], dtype=object)"
      ]
     },
     "execution_count": 294,
     "metadata": {},
     "output_type": "execute_result"
    },
    {
     "data": {
      "image/png": "[encoded data removed]",
      "text/plain": [
       "<Figure size 1200x600 with 1 Axes>"
      ]
     },
     "metadata": {},
     "output_type": "display_data"
    }
   ],
   "source": [
    "df_repas.hist(['Réel'], bins=100, figsize=(12,6))"
   ]
  },
  {
   "attachments": {},
   "cell_type": "markdown",
   "metadata": {},
   "source": [
    "Après vérification sur notre feuille excel, une partie des valeurs en dessous de 600 semble légitime mais les valeurs au dessus de 600 ne sont pas réalistes. On va donc également les éliminer ainsi que les zéros."
   ]
  },
  {
   "cell_type": "code",
   "execution_count": 295,
   "metadata": {},
   "outputs": [
    {
     "data": {
      "text/plain": [
       "0"
      ]
     },
     "execution_count": 295,
     "metadata": {},
     "output_type": "execute_result"
    }
   ],
   "source": [
    "df_repas= df_repas[df_repas['Réel']<=600]\n",
    "(df_repas['Réel']>600).sum()"
   ]
  },
  {
   "cell_type": "code",
   "execution_count": 296,
   "metadata": {},
   "outputs": [
    {
     "data": {
      "text/plain": [
       "0"
      ]
     },
     "execution_count": 296,
     "metadata": {},
     "output_type": "execute_result"
    }
   ],
   "source": [
    "df_repas= df_repas[df_repas['Réel']>0]\n",
    "(df_repas['Réel']==0).sum()"
   ]
  },
  {
   "cell_type": "code",
   "execution_count": 297,
   "metadata": {},
   "outputs": [
    {
     "data": {
      "text/plain": [
       "array([[<AxesSubplot:title={'center':'Réel'}>]], dtype=object)"
      ]
     },
     "execution_count": 297,
     "metadata": {},
     "output_type": "execute_result"
    },
    {
     "data": {
      "image/png": "[encoded data removed]",
      "text/plain": [
       "<Figure size 1200x600 with 1 Axes>"
      ]
     },
     "metadata": {},
     "output_type": "display_data"
    }
   ],
   "source": [
    "df_repas.hist(['Réel'], bins=100, figsize=(12,6))"
   ]
  },
  {
   "cell_type": "code",
   "execution_count": 298,
   "metadata": {},
   "outputs": [
    {
     "data": {
      "text/plain": [
       "2011"
      ]
     },
     "execution_count": 298,
     "metadata": {},
     "output_type": "execute_result"
    }
   ],
   "source": [
    "datetime.datetime.strptime(df_repas['Date'][0],'%Y-%m-%d').year"
   ]
  },
  {
   "attachments": {},
   "cell_type": "markdown",
   "metadata": {},
   "source": [
    "On va faire en sorte de mieux détecter les anomalies dans les effectifs de cantine pour chaque établissement. On va calculer la médiane du nombre de repas servis parétablissement et par an, ce qui nous servira de point de référence."
   ]
  },
  {
   "cell_type": "code",
   "execution_count": 299,
   "metadata": {},
   "outputs": [
    {
     "data": {
      "text/html": [
       "<div>\n",
       "<style scoped>\n",
       "    .dataframe tbody tr th:only-of-type {\n",
       "        vertical-align: middle;\n",
       "    }\n",
       "\n",
       "    .dataframe tbody tr th {\n",
       "        vertical-align: top;\n",
       "    }\n",
       "\n",
       "    .dataframe thead th {\n",
       "        text-align: right;\n",
       "    }\n",
       "</style>\n",
       "<table border=\"1\" class=\"dataframe\">\n",
       "  <thead>\n",
       "    <tr style=\"text-align: right;\">\n",
       "      <th></th>\n",
       "      <th>Type de site</th>\n",
       "      <th>Date</th>\n",
       "      <th>Prévision</th>\n",
       "      <th>Réel</th>\n",
       "      <th>Nom du site</th>\n",
       "      <th>An</th>\n",
       "    </tr>\n",
       "  </thead>\n",
       "  <tbody>\n",
       "    <tr>\n",
       "      <th>0</th>\n",
       "      <td>M/E</td>\n",
       "      <td>2011-09-06</td>\n",
       "      <td>290.0</td>\n",
       "      <td>271.0</td>\n",
       "      <td>LEDRU ROLLIN/SARAH BERNHARDT</td>\n",
       "      <td>2011</td>\n",
       "    </tr>\n",
       "    <tr>\n",
       "      <th>1</th>\n",
       "      <td>M/E</td>\n",
       "      <td>2011-09-05</td>\n",
       "      <td>95.0</td>\n",
       "      <td>102.0</td>\n",
       "      <td>BEAUJOIRE</td>\n",
       "      <td>2011</td>\n",
       "    </tr>\n",
       "    <tr>\n",
       "      <th>2</th>\n",
       "      <td>M/E</td>\n",
       "      <td>2011-09-05</td>\n",
       "      <td>167.0</td>\n",
       "      <td>171.0</td>\n",
       "      <td>CONTRIE</td>\n",
       "      <td>2011</td>\n",
       "    </tr>\n",
       "    <tr>\n",
       "      <th>3</th>\n",
       "      <td>M</td>\n",
       "      <td>2011-09-05</td>\n",
       "      <td>80.0</td>\n",
       "      <td>64.0</td>\n",
       "      <td>COUDRAY M.</td>\n",
       "      <td>2011</td>\n",
       "    </tr>\n",
       "    <tr>\n",
       "      <th>4</th>\n",
       "      <td>M</td>\n",
       "      <td>2011-09-05</td>\n",
       "      <td>73.0</td>\n",
       "      <td>77.0</td>\n",
       "      <td>FONTENY</td>\n",
       "      <td>2011</td>\n",
       "    </tr>\n",
       "  </tbody>\n",
       "</table>\n",
       "</div>"
      ],
      "text/plain": [
       "  Type de site        Date  Prévision   Réel                   Nom du site  \\\n",
       "0          M/E  2011-09-06      290.0  271.0  LEDRU ROLLIN/SARAH BERNHARDT   \n",
       "1          M/E  2011-09-05       95.0  102.0                     BEAUJOIRE   \n",
       "2          M/E  2011-09-05      167.0  171.0                       CONTRIE   \n",
       "3            M  2011-09-05       80.0   64.0                    COUDRAY M.   \n",
       "4            M  2011-09-05       73.0   77.0                       FONTENY   \n",
       "\n",
       "     An  \n",
       "0  2011  \n",
       "1  2011  \n",
       "2  2011  \n",
       "3  2011  \n",
       "4  2011  "
      ]
     },
     "execution_count": 299,
     "metadata": {},
     "output_type": "execute_result"
    }
   ],
   "source": [
    "df_repas['An'] = df_repas['Date'].apply(lambda s : datetime.datetime.strptime(s,'%Y-%m-%d').year)\n",
    "df_repas.head()"
   ]
  },
  {
   "cell_type": "code",
   "execution_count": 300,
   "metadata": {},
   "outputs": [
    {
     "data": {
      "text/html": [
       "<div>\n",
       "<style scoped>\n",
       "    .dataframe tbody tr th:only-of-type {\n",
       "        vertical-align: middle;\n",
       "    }\n",
       "\n",
       "    .dataframe tbody tr th {\n",
       "        vertical-align: top;\n",
       "    }\n",
       "\n",
       "    .dataframe thead th {\n",
       "        text-align: right;\n",
       "    }\n",
       "</style>\n",
       "<table border=\"1\" class=\"dataframe\">\n",
       "  <thead>\n",
       "    <tr style=\"text-align: right;\">\n",
       "      <th></th>\n",
       "      <th></th>\n",
       "      <th>RéelMed</th>\n",
       "    </tr>\n",
       "    <tr>\n",
       "      <th>Nom du site</th>\n",
       "      <th>An</th>\n",
       "      <th></th>\n",
       "    </tr>\n",
       "  </thead>\n",
       "  <tbody>\n",
       "    <tr>\n",
       "      <th rowspan=\"5\" valign=\"top\">AGENETS</th>\n",
       "      <th>2011</th>\n",
       "      <td>249.0</td>\n",
       "    </tr>\n",
       "    <tr>\n",
       "      <th>2012</th>\n",
       "      <td>259.0</td>\n",
       "    </tr>\n",
       "    <tr>\n",
       "      <th>2013</th>\n",
       "      <td>266.5</td>\n",
       "    </tr>\n",
       "    <tr>\n",
       "      <th>2014</th>\n",
       "      <td>282.5</td>\n",
       "    </tr>\n",
       "    <tr>\n",
       "      <th>2015</th>\n",
       "      <td>279.0</td>\n",
       "    </tr>\n",
       "  </tbody>\n",
       "</table>\n",
       "</div>"
      ],
      "text/plain": [
       "                  RéelMed\n",
       "Nom du site An           \n",
       "AGENETS     2011    249.0\n",
       "            2012    259.0\n",
       "            2013    266.5\n",
       "            2014    282.5\n",
       "            2015    279.0"
      ]
     },
     "execution_count": 300,
     "metadata": {},
     "output_type": "execute_result"
    }
   ],
   "source": [
    "df_EtAnMed = df_repas.groupby(['Nom du site','An']).median()\n",
    "df_EtAnMed.drop('Prévision', axis=1, inplace=True)\n",
    "df_EtAnMed.rename(columns={\"Réel\":\"RéelMed\"}, inplace=True)\n",
    "df_EtAnMed.head()"
   ]
  },
  {
   "cell_type": "code",
   "execution_count": 301,
   "metadata": {},
   "outputs": [
    {
     "data": {
      "text/plain": [
       "(1022, 1)"
      ]
     },
     "execution_count": 301,
     "metadata": {},
     "output_type": "execute_result"
    }
   ],
   "source": [
    "df_EtAnMed.shape"
   ]
  },
  {
   "cell_type": "code",
   "execution_count": 302,
   "metadata": {},
   "outputs": [
    {
     "data": {
      "text/html": [
       "<div>\n",
       "<style scoped>\n",
       "    .dataframe tbody tr th:only-of-type {\n",
       "        vertical-align: middle;\n",
       "    }\n",
       "\n",
       "    .dataframe tbody tr th {\n",
       "        vertical-align: top;\n",
       "    }\n",
       "\n",
       "    .dataframe thead th {\n",
       "        text-align: right;\n",
       "    }\n",
       "</style>\n",
       "<table border=\"1\" class=\"dataframe\">\n",
       "  <thead>\n",
       "    <tr style=\"text-align: right;\">\n",
       "      <th></th>\n",
       "      <th>Type de site</th>\n",
       "      <th>Date</th>\n",
       "      <th>Prévision</th>\n",
       "      <th>Réel</th>\n",
       "      <th>Nom du site</th>\n",
       "      <th>An</th>\n",
       "      <th>RéelMed</th>\n",
       "    </tr>\n",
       "  </thead>\n",
       "  <tbody>\n",
       "    <tr>\n",
       "      <th>0</th>\n",
       "      <td>M/E</td>\n",
       "      <td>2011-09-06</td>\n",
       "      <td>290.0</td>\n",
       "      <td>271.0</td>\n",
       "      <td>LEDRU ROLLIN/SARAH BERNHARDT</td>\n",
       "      <td>2011</td>\n",
       "      <td>308.0</td>\n",
       "    </tr>\n",
       "    <tr>\n",
       "      <th>1</th>\n",
       "      <td>M/E</td>\n",
       "      <td>2011-09-05</td>\n",
       "      <td>95.0</td>\n",
       "      <td>102.0</td>\n",
       "      <td>BEAUJOIRE</td>\n",
       "      <td>2011</td>\n",
       "      <td>129.0</td>\n",
       "    </tr>\n",
       "    <tr>\n",
       "      <th>2</th>\n",
       "      <td>M/E</td>\n",
       "      <td>2011-09-05</td>\n",
       "      <td>167.0</td>\n",
       "      <td>171.0</td>\n",
       "      <td>CONTRIE</td>\n",
       "      <td>2011</td>\n",
       "      <td>211.0</td>\n",
       "    </tr>\n",
       "    <tr>\n",
       "      <th>3</th>\n",
       "      <td>M</td>\n",
       "      <td>2011-09-05</td>\n",
       "      <td>80.0</td>\n",
       "      <td>64.0</td>\n",
       "      <td>COUDRAY M.</td>\n",
       "      <td>2011</td>\n",
       "      <td>77.0</td>\n",
       "    </tr>\n",
       "    <tr>\n",
       "      <th>4</th>\n",
       "      <td>M</td>\n",
       "      <td>2011-09-05</td>\n",
       "      <td>73.0</td>\n",
       "      <td>77.0</td>\n",
       "      <td>FONTENY</td>\n",
       "      <td>2011</td>\n",
       "      <td>92.0</td>\n",
       "    </tr>\n",
       "  </tbody>\n",
       "</table>\n",
       "</div>"
      ],
      "text/plain": [
       "  Type de site        Date  Prévision   Réel                   Nom du site  \\\n",
       "0          M/E  2011-09-06      290.0  271.0  LEDRU ROLLIN/SARAH BERNHARDT   \n",
       "1          M/E  2011-09-05       95.0  102.0                     BEAUJOIRE   \n",
       "2          M/E  2011-09-05      167.0  171.0                       CONTRIE   \n",
       "3            M  2011-09-05       80.0   64.0                    COUDRAY M.   \n",
       "4            M  2011-09-05       73.0   77.0                       FONTENY   \n",
       "\n",
       "     An  RéelMed  \n",
       "0  2011    308.0  \n",
       "1  2011    129.0  \n",
       "2  2011    211.0  \n",
       "3  2011     77.0  \n",
       "4  2011     92.0  "
      ]
     },
     "execution_count": 302,
     "metadata": {},
     "output_type": "execute_result"
    }
   ],
   "source": [
    "df_repas=pd.merge(df_repas, df_EtAnMed, on = ['Nom du site','An'], how = \"left\")\n",
    "df_repas.head()"
   ]
  },
  {
   "cell_type": "code",
   "execution_count": 303,
   "metadata": {},
   "outputs": [
    {
     "data": {
      "text/html": [
       "<div>\n",
       "<style scoped>\n",
       "    .dataframe tbody tr th:only-of-type {\n",
       "        vertical-align: middle;\n",
       "    }\n",
       "\n",
       "    .dataframe tbody tr th {\n",
       "        vertical-align: top;\n",
       "    }\n",
       "\n",
       "    .dataframe thead th {\n",
       "        text-align: right;\n",
       "    }\n",
       "</style>\n",
       "<table border=\"1\" class=\"dataframe\">\n",
       "  <thead>\n",
       "    <tr style=\"text-align: right;\">\n",
       "      <th></th>\n",
       "      <th>Type de site</th>\n",
       "      <th>Date</th>\n",
       "      <th>Prévision</th>\n",
       "      <th>Réel</th>\n",
       "      <th>Nom du site</th>\n",
       "      <th>An</th>\n",
       "      <th>RéelMed</th>\n",
       "      <th>RéelNorm</th>\n",
       "    </tr>\n",
       "  </thead>\n",
       "  <tbody>\n",
       "    <tr>\n",
       "      <th>0</th>\n",
       "      <td>M/E</td>\n",
       "      <td>2011-09-06</td>\n",
       "      <td>290.0</td>\n",
       "      <td>271.0</td>\n",
       "      <td>LEDRU ROLLIN/SARAH BERNHARDT</td>\n",
       "      <td>2011</td>\n",
       "      <td>308.0</td>\n",
       "      <td>0.879870</td>\n",
       "    </tr>\n",
       "    <tr>\n",
       "      <th>1</th>\n",
       "      <td>M/E</td>\n",
       "      <td>2011-09-05</td>\n",
       "      <td>95.0</td>\n",
       "      <td>102.0</td>\n",
       "      <td>BEAUJOIRE</td>\n",
       "      <td>2011</td>\n",
       "      <td>129.0</td>\n",
       "      <td>0.790698</td>\n",
       "    </tr>\n",
       "    <tr>\n",
       "      <th>2</th>\n",
       "      <td>M/E</td>\n",
       "      <td>2011-09-05</td>\n",
       "      <td>167.0</td>\n",
       "      <td>171.0</td>\n",
       "      <td>CONTRIE</td>\n",
       "      <td>2011</td>\n",
       "      <td>211.0</td>\n",
       "      <td>0.810427</td>\n",
       "    </tr>\n",
       "    <tr>\n",
       "      <th>3</th>\n",
       "      <td>M</td>\n",
       "      <td>2011-09-05</td>\n",
       "      <td>80.0</td>\n",
       "      <td>64.0</td>\n",
       "      <td>COUDRAY M.</td>\n",
       "      <td>2011</td>\n",
       "      <td>77.0</td>\n",
       "      <td>0.831169</td>\n",
       "    </tr>\n",
       "    <tr>\n",
       "      <th>4</th>\n",
       "      <td>M</td>\n",
       "      <td>2011-09-05</td>\n",
       "      <td>73.0</td>\n",
       "      <td>77.0</td>\n",
       "      <td>FONTENY</td>\n",
       "      <td>2011</td>\n",
       "      <td>92.0</td>\n",
       "      <td>0.836957</td>\n",
       "    </tr>\n",
       "  </tbody>\n",
       "</table>\n",
       "</div>"
      ],
      "text/plain": [
       "  Type de site        Date  Prévision   Réel                   Nom du site  \\\n",
       "0          M/E  2011-09-06      290.0  271.0  LEDRU ROLLIN/SARAH BERNHARDT   \n",
       "1          M/E  2011-09-05       95.0  102.0                     BEAUJOIRE   \n",
       "2          M/E  2011-09-05      167.0  171.0                       CONTRIE   \n",
       "3            M  2011-09-05       80.0   64.0                    COUDRAY M.   \n",
       "4            M  2011-09-05       73.0   77.0                       FONTENY   \n",
       "\n",
       "     An  RéelMed  RéelNorm  \n",
       "0  2011    308.0  0.879870  \n",
       "1  2011    129.0  0.790698  \n",
       "2  2011    211.0  0.810427  \n",
       "3  2011     77.0  0.831169  \n",
       "4  2011     92.0  0.836957  "
      ]
     },
     "execution_count": 303,
     "metadata": {},
     "output_type": "execute_result"
    }
   ],
   "source": [
    "df_repas['RéelNorm']=df_repas['Réel']/df_repas['RéelMed']\n",
    "df_repas.head()"
   ]
  },
  {
   "cell_type": "code",
   "execution_count": 304,
   "metadata": {},
   "outputs": [
    {
     "data": {
      "text/plain": [
       "array([[<AxesSubplot:title={'center':'RéelNorm'}>]], dtype=object)"
      ]
     },
     "execution_count": 304,
     "metadata": {},
     "output_type": "execute_result"
    },
    {
     "data": {
      "image/png": "[encoded data removed]",
      "text/plain": [
       "<Figure size 1200x600 with 1 Axes>"
      ]
     },
     "metadata": {},
     "output_type": "display_data"
    }
   ],
   "source": [
    "df_repas.hist(['RéelNorm'], bins=100, figsize=(12,6))"
   ]
  },
  {
   "attachments": {},
   "cell_type": "markdown",
   "metadata": {},
   "source": [
    "La normalisation a fonctionné de façon satisfaisante puisque la distribution est bien centrée sur 1.\n",
    "Il semble toutefois qu'il y ait encore des déviations excessives."
   ]
  },
  {
   "cell_type": "code",
   "execution_count": 305,
   "metadata": {},
   "outputs": [
    {
     "data": {
      "text/plain": [
       "949"
      ]
     },
     "execution_count": 305,
     "metadata": {},
     "output_type": "execute_result"
    }
   ],
   "source": [
    "(df_repas['RéelNorm']>2).sum()"
   ]
  },
  {
   "cell_type": "code",
   "execution_count": 306,
   "metadata": {},
   "outputs": [
    {
     "data": {
      "text/plain": [
       "4.590909090909091"
      ]
     },
     "execution_count": 306,
     "metadata": {},
     "output_type": "execute_result"
    }
   ],
   "source": [
    "df_repas['RéelNorm'].max()"
   ]
  },
  {
   "cell_type": "code",
   "execution_count": 307,
   "metadata": {},
   "outputs": [
    {
     "data": {
      "text/plain": [
       "2175"
      ]
     },
     "execution_count": 307,
     "metadata": {},
     "output_type": "execute_result"
    }
   ],
   "source": [
    "(df_repas['RéelNorm']<0.2).sum()"
   ]
  },
  {
   "cell_type": "code",
   "execution_count": 308,
   "metadata": {},
   "outputs": [
    {
     "data": {
      "text/html": [
       "<div>\n",
       "<style scoped>\n",
       "    .dataframe tbody tr th:only-of-type {\n",
       "        vertical-align: middle;\n",
       "    }\n",
       "\n",
       "    .dataframe tbody tr th {\n",
       "        vertical-align: top;\n",
       "    }\n",
       "\n",
       "    .dataframe thead th {\n",
       "        text-align: right;\n",
       "    }\n",
       "</style>\n",
       "<table border=\"1\" class=\"dataframe\">\n",
       "  <thead>\n",
       "    <tr style=\"text-align: right;\">\n",
       "      <th></th>\n",
       "      <th>Type de site</th>\n",
       "      <th>Date</th>\n",
       "      <th>Prévision</th>\n",
       "      <th>Réel</th>\n",
       "      <th>Nom du site</th>\n",
       "      <th>An</th>\n",
       "      <th>RéelMed</th>\n",
       "      <th>RéelNorm</th>\n",
       "    </tr>\n",
       "  </thead>\n",
       "  <tbody>\n",
       "    <tr>\n",
       "      <th>9289</th>\n",
       "      <td>M/E</td>\n",
       "      <td>2014-01-21</td>\n",
       "      <td>120.0</td>\n",
       "      <td>505.0</td>\n",
       "      <td>REFORMES</td>\n",
       "      <td>2014</td>\n",
       "      <td>110.0</td>\n",
       "      <td>4.590909</td>\n",
       "    </tr>\n",
       "    <tr>\n",
       "      <th>50075</th>\n",
       "      <td>M/E</td>\n",
       "      <td>2021-11-23</td>\n",
       "      <td>395.0</td>\n",
       "      <td>331.0</td>\n",
       "      <td>CONTRIE</td>\n",
       "      <td>2021</td>\n",
       "      <td>73.0</td>\n",
       "      <td>4.534247</td>\n",
       "    </tr>\n",
       "    <tr>\n",
       "      <th>5868</th>\n",
       "      <td>M/E</td>\n",
       "      <td>2021-09-28</td>\n",
       "      <td>270.0</td>\n",
       "      <td>326.0</td>\n",
       "      <td>CONTRIE</td>\n",
       "      <td>2021</td>\n",
       "      <td>73.0</td>\n",
       "      <td>4.465753</td>\n",
       "    </tr>\n",
       "    <tr>\n",
       "      <th>68486</th>\n",
       "      <td>M/E</td>\n",
       "      <td>2021-01-15</td>\n",
       "      <td>297.0</td>\n",
       "      <td>308.0</td>\n",
       "      <td>CONTRIE</td>\n",
       "      <td>2021</td>\n",
       "      <td>73.0</td>\n",
       "      <td>4.219178</td>\n",
       "    </tr>\n",
       "    <tr>\n",
       "      <th>114899</th>\n",
       "      <td>M/E</td>\n",
       "      <td>2021-01-22</td>\n",
       "      <td>297.0</td>\n",
       "      <td>307.0</td>\n",
       "      <td>CONTRIE</td>\n",
       "      <td>2021</td>\n",
       "      <td>73.0</td>\n",
       "      <td>4.205479</td>\n",
       "    </tr>\n",
       "    <tr>\n",
       "      <th>...</th>\n",
       "      <td>...</td>\n",
       "      <td>...</td>\n",
       "      <td>...</td>\n",
       "      <td>...</td>\n",
       "      <td>...</td>\n",
       "      <td>...</td>\n",
       "      <td>...</td>\n",
       "      <td>...</td>\n",
       "    </tr>\n",
       "    <tr>\n",
       "      <th>12616</th>\n",
       "      <td>E</td>\n",
       "      <td>2018-06-11</td>\n",
       "      <td>2.0</td>\n",
       "      <td>1.0</td>\n",
       "      <td>BOCCAGE E</td>\n",
       "      <td>2018</td>\n",
       "      <td>150.0</td>\n",
       "      <td>0.006667</td>\n",
       "    </tr>\n",
       "    <tr>\n",
       "      <th>103504</th>\n",
       "      <td>M/E</td>\n",
       "      <td>2019-09-24</td>\n",
       "      <td>165.0</td>\n",
       "      <td>1.0</td>\n",
       "      <td>PLANTES</td>\n",
       "      <td>2019</td>\n",
       "      <td>153.0</td>\n",
       "      <td>0.006536</td>\n",
       "    </tr>\n",
       "    <tr>\n",
       "      <th>45882</th>\n",
       "      <td>E</td>\n",
       "      <td>2016-06-02</td>\n",
       "      <td>157.0</td>\n",
       "      <td>1.0</td>\n",
       "      <td>LEON BLUM</td>\n",
       "      <td>2016</td>\n",
       "      <td>156.5</td>\n",
       "      <td>0.006390</td>\n",
       "    </tr>\n",
       "    <tr>\n",
       "      <th>11664</th>\n",
       "      <td>M/E</td>\n",
       "      <td>2019-02-07</td>\n",
       "      <td>315.0</td>\n",
       "      <td>2.0</td>\n",
       "      <td>FRANCOIS DALLET/DOCTEUR TEILLAIS</td>\n",
       "      <td>2019</td>\n",
       "      <td>314.0</td>\n",
       "      <td>0.006369</td>\n",
       "    </tr>\n",
       "    <tr>\n",
       "      <th>31892</th>\n",
       "      <td>M/E</td>\n",
       "      <td>2022-03-24</td>\n",
       "      <td>310.0</td>\n",
       "      <td>1.0</td>\n",
       "      <td>LINOT</td>\n",
       "      <td>2022</td>\n",
       "      <td>297.0</td>\n",
       "      <td>0.003367</td>\n",
       "    </tr>\n",
       "  </tbody>\n",
       "</table>\n",
       "<p>130308 rows × 8 columns</p>\n",
       "</div>"
      ],
      "text/plain": [
       "       Type de site        Date  Prévision   Réel  \\\n",
       "9289            M/E  2014-01-21      120.0  505.0   \n",
       "50075           M/E  2021-11-23      395.0  331.0   \n",
       "5868            M/E  2021-09-28      270.0  326.0   \n",
       "68486           M/E  2021-01-15      297.0  308.0   \n",
       "114899          M/E  2021-01-22      297.0  307.0   \n",
       "...             ...         ...        ...    ...   \n",
       "12616             E  2018-06-11        2.0    1.0   \n",
       "103504          M/E  2019-09-24      165.0    1.0   \n",
       "45882             E  2016-06-02      157.0    1.0   \n",
       "11664           M/E  2019-02-07      315.0    2.0   \n",
       "31892           M/E  2022-03-24      310.0    1.0   \n",
       "\n",
       "                             Nom du site    An  RéelMed  RéelNorm  \n",
       "9289                            REFORMES  2014    110.0  4.590909  \n",
       "50075                            CONTRIE  2021     73.0  4.534247  \n",
       "5868                             CONTRIE  2021     73.0  4.465753  \n",
       "68486                            CONTRIE  2021     73.0  4.219178  \n",
       "114899                           CONTRIE  2021     73.0  4.205479  \n",
       "...                                  ...   ...      ...       ...  \n",
       "12616                          BOCCAGE E  2018    150.0  0.006667  \n",
       "103504                           PLANTES  2019    153.0  0.006536  \n",
       "45882                          LEON BLUM  2016    156.5  0.006390  \n",
       "11664   FRANCOIS DALLET/DOCTEUR TEILLAIS  2019    314.0  0.006369  \n",
       "31892                              LINOT  2022    297.0  0.003367  \n",
       "\n",
       "[130308 rows x 8 columns]"
      ]
     },
     "execution_count": 308,
     "metadata": {},
     "output_type": "execute_result"
    }
   ],
   "source": [
    "df_repas.sort_values(['RéelNorm'], axis=0, ascending=False)"
   ]
  },
  {
   "attachments": {},
   "cell_type": "markdown",
   "metadata": {},
   "source": [
    "On va éliminer les déviations excessives :"
   ]
  },
  {
   "cell_type": "code",
   "execution_count": 311,
   "metadata": {},
   "outputs": [
    {
     "data": {
      "text/plain": [
       "0"
      ]
     },
     "execution_count": 311,
     "metadata": {},
     "output_type": "execute_result"
    }
   ],
   "source": [
    "df_repas= df_repas[df_repas['RéelNorm']<2]\n",
    "(df_repas['RéelNorm']>2).sum()"
   ]
  },
  {
   "cell_type": "code",
   "execution_count": 312,
   "metadata": {},
   "outputs": [
    {
     "data": {
      "text/plain": [
       "0"
      ]
     },
     "execution_count": 312,
     "metadata": {},
     "output_type": "execute_result"
    }
   ],
   "source": [
    "df_repas= df_repas[df_repas['RéelNorm']>0.2]\n",
    "(df_repas['RéelNorm']<0.2).sum()"
   ]
  },
  {
   "cell_type": "code",
   "execution_count": 313,
   "metadata": {},
   "outputs": [
    {
     "data": {
      "text/plain": [
       "array([[<AxesSubplot:title={'center':'RéelNorm'}>]], dtype=object)"
      ]
     },
     "execution_count": 313,
     "metadata": {},
     "output_type": "execute_result"
    },
    {
     "data": {
      "image/png": "[encoded data removed]",
      "text/plain": [
       "<Figure size 1200x600 with 1 Axes>"
      ]
     },
     "metadata": {},
     "output_type": "display_data"
    }
   ],
   "source": [
    "df_repas.hist(['RéelNorm'], bins=100, figsize=(12,6))"
   ]
  },
  {
   "attachments": {},
   "cell_type": "markdown",
   "metadata": {},
   "source": [
    "Les valeurs retenus semblent désormais raisonnables. Nous pouvons sauvegarder le résultat."
   ]
  },
  {
   "cell_type": "code",
   "execution_count": 314,
   "metadata": {},
   "outputs": [],
   "source": [
    "df_repas.to_csv('244400404_effectifs-eleves-cleaned')"
   ]
  },
  {
   "cell_type": "code",
   "execution_count": 316,
   "metadata": {},
   "outputs": [
    {
     "data": {
      "text/plain": [
       "Index(['Type de site', 'Date', 'Prévision', 'Réel', 'Nom du site', 'An',\n",
       "       'RéelMed', 'RéelNorm'],\n",
       "      dtype='object')"
      ]
     },
     "execution_count": 316,
     "metadata": {},
     "output_type": "execute_result"
    }
   ],
   "source": [
    "df_repas.keys()"
   ]
  }
 ],
 "metadata": {
  "kernelspec": {
   "display_name": "Python 3",
   "language": "python",
   "name": "python3"
  },
  "language_info": {
   "codemirror_mode": {
    "name": "ipython",
    "version": 3
   },
   "file_extension": ".py",
   "mimetype": "text/x-python",
   "name": "python",
   "nbconvert_exporter": "python",
   "pygments_lexer": "ipython3",
   "version": "3.10.10"
  },
  "orig_nbformat": 4,
  "vscode": {
   "interpreter": {
    "hash": "6cd296cbf4053a518fd76b85d2c9ab905c5973094489634866e40cbfd15a8405"
   }
  }
 },
 "nbformat": 4,
 "nbformat_minor": 2
}
