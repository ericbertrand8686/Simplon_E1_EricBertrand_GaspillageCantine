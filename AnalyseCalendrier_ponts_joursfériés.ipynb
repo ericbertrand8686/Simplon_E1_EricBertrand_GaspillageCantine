{
 "cells": [
  {
   "cell_type": "code",
   "execution_count": 1,
   "metadata": {},
   "outputs": [],
   "source": [
    "import pandas as pd\n",
    "import numpy as np\n",
    "import matplotlib.pyplot as plt\n",
    "import datetime, os\n"
   ]
  },
  {
   "cell_type": "code",
   "execution_count": 2,
   "metadata": {},
   "outputs": [
    {
     "data": {
      "text/plain": [
       "['AntoineAugusti_Vacances_19902026.csv',\n",
       " 'AntoineAugusti_Vacances_Table_19902026.csv',\n",
       " 'AntoineAugusti_Vacances_Table_19902026_nonCorrigé.csv',\n",
       " 'code_etablissement.csv',\n",
       " 'Effectifs_ecoles.csv',\n",
       " 'fetes_chretiennes.csv',\n",
       " 'fetes_juives.csv',\n",
       " 'fetes_musulmanes.csv',\n",
       " 'frequentation_cantines_v3.csv',\n",
       " 'incidence RDD 3.csv',\n",
       " 'incidence RDD 6.csv',\n",
       " 'incidence RDD 7.csv',\n",
       " 'Journees_de_greve.csv',\n",
       " 'jours-feries-seuls.csv',\n",
       " 'key_jours.xlsx',\n",
       " 'Liste ETS_geo_AE12102020.xlsx',\n",
       " 'menus_2011-2015.csv',\n",
       " 'menus_2016-2019.csv',\n",
       " 'missing_strikes.xlsx',\n",
       " 'mouvements-sociaux-depuis-2002.csv',\n",
       " 'mouvements-sociaux-depuis-2002.json',\n",
       " 'orga_des_etablissements.xlsx',\n",
       " 'ramadan.csv',\n",
       " 'vacances_Nantes_2011-2019.csv']"
      ]
     },
     "execution_count": 2,
     "metadata": {},
     "output_type": "execute_result"
    }
   ],
   "source": [
    "df_files = os.listdir('../../data/DataGithub/')\n",
    "df_files"
   ]
  },
  {
   "cell_type": "code",
   "execution_count": 3,
   "metadata": {},
   "outputs": [
    {
     "data": {
      "text/html": [
       "<div>\n",
       "<style scoped>\n",
       "    .dataframe tbody tr th:only-of-type {\n",
       "        vertical-align: middle;\n",
       "    }\n",
       "\n",
       "    .dataframe tbody tr th {\n",
       "        vertical-align: top;\n",
       "    }\n",
       "\n",
       "    .dataframe thead th {\n",
       "        text-align: right;\n",
       "    }\n",
       "</style>\n",
       "<table border=\"1\" class=\"dataframe\">\n",
       "  <thead>\n",
       "    <tr style=\"text-align: right;\">\n",
       "      <th></th>\n",
       "      <th>RowNo</th>\n",
       "      <th>Type de site</th>\n",
       "      <th>Date</th>\n",
       "      <th>Prévision</th>\n",
       "      <th>Réel</th>\n",
       "      <th>Nom du site</th>\n",
       "      <th>An</th>\n",
       "      <th>RéelMed</th>\n",
       "      <th>RéelNorm</th>\n",
       "      <th>datetime</th>\n",
       "      <th>joursem</th>\n",
       "      <th>isoweek</th>\n",
       "    </tr>\n",
       "  </thead>\n",
       "  <tbody>\n",
       "    <tr>\n",
       "      <th>0</th>\n",
       "      <td>0</td>\n",
       "      <td>M/E</td>\n",
       "      <td>2011-09-06</td>\n",
       "      <td>290.0</td>\n",
       "      <td>271.0</td>\n",
       "      <td>LEDRU ROLLIN/SARAH BERNHARDT</td>\n",
       "      <td>2011</td>\n",
       "      <td>308.0</td>\n",
       "      <td>0.879870</td>\n",
       "      <td>2011-09-06</td>\n",
       "      <td>1</td>\n",
       "      <td>36</td>\n",
       "    </tr>\n",
       "    <tr>\n",
       "      <th>1</th>\n",
       "      <td>1</td>\n",
       "      <td>M/E</td>\n",
       "      <td>2011-09-05</td>\n",
       "      <td>95.0</td>\n",
       "      <td>102.0</td>\n",
       "      <td>BEAUJOIRE</td>\n",
       "      <td>2011</td>\n",
       "      <td>129.0</td>\n",
       "      <td>0.790698</td>\n",
       "      <td>2011-09-05</td>\n",
       "      <td>0</td>\n",
       "      <td>36</td>\n",
       "    </tr>\n",
       "    <tr>\n",
       "      <th>2</th>\n",
       "      <td>2</td>\n",
       "      <td>M/E</td>\n",
       "      <td>2011-09-05</td>\n",
       "      <td>167.0</td>\n",
       "      <td>171.0</td>\n",
       "      <td>CONTRIE</td>\n",
       "      <td>2011</td>\n",
       "      <td>211.0</td>\n",
       "      <td>0.810427</td>\n",
       "      <td>2011-09-05</td>\n",
       "      <td>0</td>\n",
       "      <td>36</td>\n",
       "    </tr>\n",
       "    <tr>\n",
       "      <th>3</th>\n",
       "      <td>3</td>\n",
       "      <td>M</td>\n",
       "      <td>2011-09-05</td>\n",
       "      <td>80.0</td>\n",
       "      <td>64.0</td>\n",
       "      <td>COUDRAY M.</td>\n",
       "      <td>2011</td>\n",
       "      <td>77.0</td>\n",
       "      <td>0.831169</td>\n",
       "      <td>2011-09-05</td>\n",
       "      <td>0</td>\n",
       "      <td>36</td>\n",
       "    </tr>\n",
       "    <tr>\n",
       "      <th>4</th>\n",
       "      <td>4</td>\n",
       "      <td>M</td>\n",
       "      <td>2011-09-05</td>\n",
       "      <td>73.0</td>\n",
       "      <td>77.0</td>\n",
       "      <td>FONTENY</td>\n",
       "      <td>2011</td>\n",
       "      <td>92.0</td>\n",
       "      <td>0.836957</td>\n",
       "      <td>2011-09-05</td>\n",
       "      <td>0</td>\n",
       "      <td>36</td>\n",
       "    </tr>\n",
       "  </tbody>\n",
       "</table>\n",
       "</div>"
      ],
      "text/plain": [
       "   RowNo Type de site        Date  Prévision   Réel  \\\n",
       "0      0          M/E  2011-09-06      290.0  271.0   \n",
       "1      1          M/E  2011-09-05       95.0  102.0   \n",
       "2      2          M/E  2011-09-05      167.0  171.0   \n",
       "3      3            M  2011-09-05       80.0   64.0   \n",
       "4      4            M  2011-09-05       73.0   77.0   \n",
       "\n",
       "                    Nom du site    An  RéelMed  RéelNorm   datetime  joursem  \\\n",
       "0  LEDRU ROLLIN/SARAH BERNHARDT  2011    308.0  0.879870 2011-09-06        1   \n",
       "1                     BEAUJOIRE  2011    129.0  0.790698 2011-09-05        0   \n",
       "2                       CONTRIE  2011    211.0  0.810427 2011-09-05        0   \n",
       "3                    COUDRAY M.  2011     77.0  0.831169 2011-09-05        0   \n",
       "4                       FONTENY  2011     92.0  0.836957 2011-09-05        0   \n",
       "\n",
       "   isoweek  \n",
       "0       36  \n",
       "1       36  \n",
       "2       36  \n",
       "3       36  \n",
       "4       36  "
      ]
     },
     "execution_count": 3,
     "metadata": {},
     "output_type": "execute_result"
    }
   ],
   "source": [
    "df = pd.read_csv('244400404_effectifs-eleves-cleaned')\n",
    "df['datetime']= df['Date'].apply( lambda string1 :datetime.datetime.strptime(string1,\"%Y-%m-%d\"))\n",
    "df['joursem']= df['datetime'].apply( lambda string1 :string1.weekday())\n",
    "df['isoweek']= df['datetime'].apply( lambda string1 :string1.isocalendar().week)\n",
    "df.head()"
   ]
  },
  {
   "cell_type": "code",
   "execution_count": 4,
   "metadata": {},
   "outputs": [
    {
     "data": {
      "text/html": [
       "<div>\n",
       "<style scoped>\n",
       "    .dataframe tbody tr th:only-of-type {\n",
       "        vertical-align: middle;\n",
       "    }\n",
       "\n",
       "    .dataframe tbody tr th {\n",
       "        vertical-align: top;\n",
       "    }\n",
       "\n",
       "    .dataframe thead th {\n",
       "        text-align: right;\n",
       "    }\n",
       "</style>\n",
       "<table border=\"1\" class=\"dataframe\">\n",
       "  <thead>\n",
       "    <tr style=\"text-align: right;\">\n",
       "      <th></th>\n",
       "      <th>date</th>\n",
       "      <th>est_jour_ferie</th>\n",
       "      <th>nom_jour_ferie</th>\n",
       "      <th>datetime</th>\n",
       "      <th>joursem</th>\n",
       "    </tr>\n",
       "  </thead>\n",
       "  <tbody>\n",
       "    <tr>\n",
       "      <th>671</th>\n",
       "      <td>2011-06-02</td>\n",
       "      <td>True</td>\n",
       "      <td>Ascension</td>\n",
       "      <td>2011-06-02</td>\n",
       "      <td>3</td>\n",
       "    </tr>\n",
       "    <tr>\n",
       "      <th>673</th>\n",
       "      <td>2011-07-14</td>\n",
       "      <td>True</td>\n",
       "      <td>Fête Nationale</td>\n",
       "      <td>2011-07-14</td>\n",
       "      <td>3</td>\n",
       "    </tr>\n",
       "    <tr>\n",
       "      <th>675</th>\n",
       "      <td>2011-11-01</td>\n",
       "      <td>True</td>\n",
       "      <td>Toussaint</td>\n",
       "      <td>2011-11-01</td>\n",
       "      <td>1</td>\n",
       "    </tr>\n",
       "    <tr>\n",
       "      <th>680</th>\n",
       "      <td>2012-05-01</td>\n",
       "      <td>True</td>\n",
       "      <td>Fête du travail</td>\n",
       "      <td>2012-05-01</td>\n",
       "      <td>1</td>\n",
       "    </tr>\n",
       "    <tr>\n",
       "      <th>681</th>\n",
       "      <td>2012-05-08</td>\n",
       "      <td>True</td>\n",
       "      <td>Victoire des alliés</td>\n",
       "      <td>2012-05-08</td>\n",
       "      <td>1</td>\n",
       "    </tr>\n",
       "  </tbody>\n",
       "</table>\n",
       "</div>"
      ],
      "text/plain": [
       "           date  est_jour_ferie       nom_jour_ferie   datetime  joursem\n",
       "671  2011-06-02            True            Ascension 2011-06-02        3\n",
       "673  2011-07-14            True       Fête Nationale 2011-07-14        3\n",
       "675  2011-11-01            True            Toussaint 2011-11-01        1\n",
       "680  2012-05-01            True      Fête du travail 2012-05-01        1\n",
       "681  2012-05-08            True  Victoire des alliés 2012-05-08        1"
      ]
     },
     "execution_count": 4,
     "metadata": {},
     "output_type": "execute_result"
    }
   ],
   "source": [
    "df_calend=pd.read_csv('../../data/DataGithub/jours-feries-seuls.csv')\n",
    "df_calend['datetime']= df_calend['date'].apply( lambda string1 :datetime.datetime.strptime(string1,\"%Y-%m-%d\"))\n",
    "df_calend=df_calend[(df_calend['datetime'].apply(lambda date1 : date1.year)).isin(range(2011,2023))]\n",
    "df_calend['joursem']= df_calend['datetime'].apply( lambda string1 :string1.weekday())\n",
    "df_calend=df_calend[df_calend['joursem'].isin([1,3])]\n",
    "df_calend.head()"
   ]
  },
  {
   "cell_type": "code",
   "execution_count": 27,
   "metadata": {},
   "outputs": [
    {
     "name": "stdout",
     "output_type": "stream",
     "text": [
      "<class 'pandas.core.frame.DataFrame'>\n",
      "Int64Index: 39 entries, 0 to 77\n",
      "Data columns (total 2 columns):\n",
      " #   Column    Non-Null Count  Dtype         \n",
      "---  ------    --------------  -----         \n",
      " 0   datetime  39 non-null     datetime64[ns]\n",
      " 1   pont      39 non-null     object        \n",
      "dtypes: datetime64[ns](1), object(1)\n",
      "memory usage: 936.0+ bytes\n"
     ]
    }
   ],
   "source": [
    "df_calend.info()"
   ]
  },
  {
   "cell_type": "code",
   "execution_count": 5,
   "metadata": {},
   "outputs": [
    {
     "data": {
      "text/html": [
       "<div>\n",
       "<style scoped>\n",
       "    .dataframe tbody tr th:only-of-type {\n",
       "        vertical-align: middle;\n",
       "    }\n",
       "\n",
       "    .dataframe tbody tr th {\n",
       "        vertical-align: top;\n",
       "    }\n",
       "\n",
       "    .dataframe thead th {\n",
       "        text-align: right;\n",
       "    }\n",
       "</style>\n",
       "<table border=\"1\" class=\"dataframe\">\n",
       "  <thead>\n",
       "    <tr style=\"text-align: right;\">\n",
       "      <th></th>\n",
       "      <th>date</th>\n",
       "      <th>est_jour_ferie</th>\n",
       "      <th>nom_jour_ferie</th>\n",
       "      <th>datetime</th>\n",
       "      <th>joursem_x</th>\n",
       "      <th>RowNo</th>\n",
       "      <th>Type de site</th>\n",
       "      <th>Date</th>\n",
       "      <th>Prévision</th>\n",
       "      <th>Réel</th>\n",
       "      <th>Nom du site</th>\n",
       "      <th>An</th>\n",
       "      <th>RéelMed</th>\n",
       "      <th>RéelNorm</th>\n",
       "      <th>joursem_y</th>\n",
       "      <th>isoweek</th>\n",
       "    </tr>\n",
       "  </thead>\n",
       "  <tbody>\n",
       "  </tbody>\n",
       "</table>\n",
       "</div>"
      ],
      "text/plain": [
       "Empty DataFrame\n",
       "Columns: [date, est_jour_ferie, nom_jour_ferie, datetime, joursem_x, RowNo, Type de site, Date, Prévision, Réel, Nom du site, An, RéelMed, RéelNorm, joursem_y, isoweek]\n",
       "Index: []"
      ]
     },
     "execution_count": 5,
     "metadata": {},
     "output_type": "execute_result"
    }
   ],
   "source": [
    "df_checkdate=pd.merge(df_calend, df, how='inner', on='datetime')\n",
    "df_checkdate.head(30)"
   ]
  },
  {
   "cell_type": "code",
   "execution_count": 6,
   "metadata": {},
   "outputs": [
    {
     "data": {
      "text/html": [
       "<div>\n",
       "<style scoped>\n",
       "    .dataframe tbody tr th:only-of-type {\n",
       "        vertical-align: middle;\n",
       "    }\n",
       "\n",
       "    .dataframe tbody tr th {\n",
       "        vertical-align: top;\n",
       "    }\n",
       "\n",
       "    .dataframe thead th {\n",
       "        text-align: right;\n",
       "    }\n",
       "</style>\n",
       "<table border=\"1\" class=\"dataframe\">\n",
       "  <thead>\n",
       "    <tr style=\"text-align: right;\">\n",
       "      <th></th>\n",
       "      <th>date</th>\n",
       "      <th>est_jour_ferie</th>\n",
       "      <th>nom_jour_ferie</th>\n",
       "      <th>datetime</th>\n",
       "      <th>joursem</th>\n",
       "      <th>datetime_plus1</th>\n",
       "      <th>datetime_minus1</th>\n",
       "    </tr>\n",
       "  </thead>\n",
       "  <tbody>\n",
       "    <tr>\n",
       "      <th>671</th>\n",
       "      <td>2011-06-02</td>\n",
       "      <td>True</td>\n",
       "      <td>Ascension</td>\n",
       "      <td>2011-06-02</td>\n",
       "      <td>3</td>\n",
       "      <td>2011-06-03</td>\n",
       "      <td>2011-06-01</td>\n",
       "    </tr>\n",
       "    <tr>\n",
       "      <th>673</th>\n",
       "      <td>2011-07-14</td>\n",
       "      <td>True</td>\n",
       "      <td>Fête Nationale</td>\n",
       "      <td>2011-07-14</td>\n",
       "      <td>3</td>\n",
       "      <td>2011-07-15</td>\n",
       "      <td>2011-07-13</td>\n",
       "    </tr>\n",
       "    <tr>\n",
       "      <th>675</th>\n",
       "      <td>2011-11-01</td>\n",
       "      <td>True</td>\n",
       "      <td>Toussaint</td>\n",
       "      <td>2011-11-01</td>\n",
       "      <td>1</td>\n",
       "      <td>2011-11-02</td>\n",
       "      <td>2011-10-31</td>\n",
       "    </tr>\n",
       "    <tr>\n",
       "      <th>680</th>\n",
       "      <td>2012-05-01</td>\n",
       "      <td>True</td>\n",
       "      <td>Fête du travail</td>\n",
       "      <td>2012-05-01</td>\n",
       "      <td>1</td>\n",
       "      <td>2012-05-02</td>\n",
       "      <td>2012-04-30</td>\n",
       "    </tr>\n",
       "    <tr>\n",
       "      <th>681</th>\n",
       "      <td>2012-05-08</td>\n",
       "      <td>True</td>\n",
       "      <td>Victoire des alliés</td>\n",
       "      <td>2012-05-08</td>\n",
       "      <td>1</td>\n",
       "      <td>2012-05-09</td>\n",
       "      <td>2012-05-07</td>\n",
       "    </tr>\n",
       "  </tbody>\n",
       "</table>\n",
       "</div>"
      ],
      "text/plain": [
       "           date  est_jour_ferie       nom_jour_ferie   datetime  joursem  \\\n",
       "671  2011-06-02            True            Ascension 2011-06-02        3   \n",
       "673  2011-07-14            True       Fête Nationale 2011-07-14        3   \n",
       "675  2011-11-01            True            Toussaint 2011-11-01        1   \n",
       "680  2012-05-01            True      Fête du travail 2012-05-01        1   \n",
       "681  2012-05-08            True  Victoire des alliés 2012-05-08        1   \n",
       "\n",
       "    datetime_plus1 datetime_minus1  \n",
       "671     2011-06-03      2011-06-01  \n",
       "673     2011-07-15      2011-07-13  \n",
       "675     2011-11-02      2011-10-31  \n",
       "680     2012-05-02      2012-04-30  \n",
       "681     2012-05-09      2012-05-07  "
      ]
     },
     "execution_count": 6,
     "metadata": {},
     "output_type": "execute_result"
    }
   ],
   "source": [
    "df_calend['datetime_plus1']=df_calend['datetime'].apply(lambda date1 : date1 + datetime.timedelta(days=1))\n",
    "df_calend['datetime_minus1']=df_calend['datetime'].apply(lambda date1 : date1 - datetime.timedelta(days=1))\n",
    "df_calend.head()\n"
   ]
  },
  {
   "cell_type": "code",
   "execution_count": 7,
   "metadata": {},
   "outputs": [],
   "source": [
    "df_calend=df_calend.melt(id_vars=['datetime','nom_jour_ferie'], value_vars=['datetime_plus1', 'datetime_minus1'],\n",
    "               var_name='décalage', value_name='datetime2')"
   ]
  },
  {
   "cell_type": "code",
   "execution_count": 8,
   "metadata": {},
   "outputs": [
    {
     "data": {
      "text/html": [
       "<div>\n",
       "<style scoped>\n",
       "    .dataframe tbody tr th:only-of-type {\n",
       "        vertical-align: middle;\n",
       "    }\n",
       "\n",
       "    .dataframe tbody tr th {\n",
       "        vertical-align: top;\n",
       "    }\n",
       "\n",
       "    .dataframe thead th {\n",
       "        text-align: right;\n",
       "    }\n",
       "</style>\n",
       "<table border=\"1\" class=\"dataframe\">\n",
       "  <thead>\n",
       "    <tr style=\"text-align: right;\">\n",
       "      <th></th>\n",
       "      <th>datetime</th>\n",
       "      <th>pont</th>\n",
       "    </tr>\n",
       "  </thead>\n",
       "  <tbody>\n",
       "    <tr>\n",
       "      <th>0</th>\n",
       "      <td>2011-06-03</td>\n",
       "      <td>Ascension</td>\n",
       "    </tr>\n",
       "    <tr>\n",
       "      <th>1</th>\n",
       "      <td>2011-07-15</td>\n",
       "      <td>Fête Nationale</td>\n",
       "    </tr>\n",
       "    <tr>\n",
       "      <th>5</th>\n",
       "      <td>2012-05-18</td>\n",
       "      <td>Ascension</td>\n",
       "    </tr>\n",
       "    <tr>\n",
       "      <th>6</th>\n",
       "      <td>2012-11-02</td>\n",
       "      <td>Toussaint</td>\n",
       "    </tr>\n",
       "    <tr>\n",
       "      <th>9</th>\n",
       "      <td>2013-05-10</td>\n",
       "      <td>Ascension</td>\n",
       "    </tr>\n",
       "  </tbody>\n",
       "</table>\n",
       "</div>"
      ],
      "text/plain": [
       "    datetime            pont\n",
       "0 2011-06-03       Ascension\n",
       "1 2011-07-15  Fête Nationale\n",
       "5 2012-05-18       Ascension\n",
       "6 2012-11-02       Toussaint\n",
       "9 2013-05-10       Ascension"
      ]
     },
     "execution_count": 8,
     "metadata": {},
     "output_type": "execute_result"
    }
   ],
   "source": [
    "df_calend=df_calend[['datetime2','nom_jour_ferie']]\n",
    "df_calend.rename(columns={'datetime2':'datetime', 'nom_jour_ferie':'pont'},inplace=True)\n",
    "df_calend['joursem']= df_calend['datetime'].apply( lambda string1 :string1.weekday())\n",
    "df_calend=df_calend[df_calend['joursem'].isin([0,4])]\n",
    "df_calend=df_calend[['datetime','pont']]\n",
    "df_calend.head()"
   ]
  },
  {
   "cell_type": "code",
   "execution_count": 9,
   "metadata": {},
   "outputs": [],
   "source": [
    "df=pd.merge(df, df_calend, how='left', on='datetime')"
   ]
  },
  {
   "cell_type": "code",
   "execution_count": 10,
   "metadata": {},
   "outputs": [
    {
     "data": {
      "text/html": [
       "<div>\n",
       "<style scoped>\n",
       "    .dataframe tbody tr th:only-of-type {\n",
       "        vertical-align: middle;\n",
       "    }\n",
       "\n",
       "    .dataframe tbody tr th {\n",
       "        vertical-align: top;\n",
       "    }\n",
       "\n",
       "    .dataframe thead th {\n",
       "        text-align: right;\n",
       "    }\n",
       "</style>\n",
       "<table border=\"1\" class=\"dataframe\">\n",
       "  <thead>\n",
       "    <tr style=\"text-align: right;\">\n",
       "      <th></th>\n",
       "      <th>RowNo</th>\n",
       "      <th>Type de site</th>\n",
       "      <th>Date</th>\n",
       "      <th>Prévision</th>\n",
       "      <th>Réel</th>\n",
       "      <th>Nom du site</th>\n",
       "      <th>An</th>\n",
       "      <th>RéelMed</th>\n",
       "      <th>RéelNorm</th>\n",
       "      <th>datetime</th>\n",
       "      <th>joursem</th>\n",
       "      <th>isoweek</th>\n",
       "      <th>pont</th>\n",
       "    </tr>\n",
       "  </thead>\n",
       "  <tbody>\n",
       "    <tr>\n",
       "      <th>0</th>\n",
       "      <td>0</td>\n",
       "      <td>M/E</td>\n",
       "      <td>2011-09-06</td>\n",
       "      <td>290.0</td>\n",
       "      <td>271.0</td>\n",
       "      <td>LEDRU ROLLIN/SARAH BERNHARDT</td>\n",
       "      <td>2011</td>\n",
       "      <td>308.0</td>\n",
       "      <td>0.879870</td>\n",
       "      <td>2011-09-06</td>\n",
       "      <td>1</td>\n",
       "      <td>36</td>\n",
       "      <td></td>\n",
       "    </tr>\n",
       "    <tr>\n",
       "      <th>1</th>\n",
       "      <td>1</td>\n",
       "      <td>M/E</td>\n",
       "      <td>2011-09-05</td>\n",
       "      <td>95.0</td>\n",
       "      <td>102.0</td>\n",
       "      <td>BEAUJOIRE</td>\n",
       "      <td>2011</td>\n",
       "      <td>129.0</td>\n",
       "      <td>0.790698</td>\n",
       "      <td>2011-09-05</td>\n",
       "      <td>0</td>\n",
       "      <td>36</td>\n",
       "      <td></td>\n",
       "    </tr>\n",
       "    <tr>\n",
       "      <th>2</th>\n",
       "      <td>2</td>\n",
       "      <td>M/E</td>\n",
       "      <td>2011-09-05</td>\n",
       "      <td>167.0</td>\n",
       "      <td>171.0</td>\n",
       "      <td>CONTRIE</td>\n",
       "      <td>2011</td>\n",
       "      <td>211.0</td>\n",
       "      <td>0.810427</td>\n",
       "      <td>2011-09-05</td>\n",
       "      <td>0</td>\n",
       "      <td>36</td>\n",
       "      <td></td>\n",
       "    </tr>\n",
       "    <tr>\n",
       "      <th>3</th>\n",
       "      <td>3</td>\n",
       "      <td>M</td>\n",
       "      <td>2011-09-05</td>\n",
       "      <td>80.0</td>\n",
       "      <td>64.0</td>\n",
       "      <td>COUDRAY M.</td>\n",
       "      <td>2011</td>\n",
       "      <td>77.0</td>\n",
       "      <td>0.831169</td>\n",
       "      <td>2011-09-05</td>\n",
       "      <td>0</td>\n",
       "      <td>36</td>\n",
       "      <td></td>\n",
       "    </tr>\n",
       "    <tr>\n",
       "      <th>4</th>\n",
       "      <td>4</td>\n",
       "      <td>M</td>\n",
       "      <td>2011-09-05</td>\n",
       "      <td>73.0</td>\n",
       "      <td>77.0</td>\n",
       "      <td>FONTENY</td>\n",
       "      <td>2011</td>\n",
       "      <td>92.0</td>\n",
       "      <td>0.836957</td>\n",
       "      <td>2011-09-05</td>\n",
       "      <td>0</td>\n",
       "      <td>36</td>\n",
       "      <td></td>\n",
       "    </tr>\n",
       "  </tbody>\n",
       "</table>\n",
       "</div>"
      ],
      "text/plain": [
       "   RowNo Type de site        Date  Prévision   Réel  \\\n",
       "0      0          M/E  2011-09-06      290.0  271.0   \n",
       "1      1          M/E  2011-09-05       95.0  102.0   \n",
       "2      2          M/E  2011-09-05      167.0  171.0   \n",
       "3      3            M  2011-09-05       80.0   64.0   \n",
       "4      4            M  2011-09-05       73.0   77.0   \n",
       "\n",
       "                    Nom du site    An  RéelMed  RéelNorm   datetime  joursem  \\\n",
       "0  LEDRU ROLLIN/SARAH BERNHARDT  2011    308.0  0.879870 2011-09-06        1   \n",
       "1                     BEAUJOIRE  2011    129.0  0.790698 2011-09-05        0   \n",
       "2                       CONTRIE  2011    211.0  0.810427 2011-09-05        0   \n",
       "3                    COUDRAY M.  2011     77.0  0.831169 2011-09-05        0   \n",
       "4                       FONTENY  2011     92.0  0.836957 2011-09-05        0   \n",
       "\n",
       "   isoweek pont  \n",
       "0       36       \n",
       "1       36       \n",
       "2       36       \n",
       "3       36       \n",
       "4       36       "
      ]
     },
     "execution_count": 10,
     "metadata": {},
     "output_type": "execute_result"
    }
   ],
   "source": [
    "df['pont'].fillna('', inplace=True)\n",
    "df.head()"
   ]
  },
  {
   "cell_type": "code",
   "execution_count": 11,
   "metadata": {},
   "outputs": [
    {
     "data": {
      "text/plain": [
       "<AxesSubplot:xlabel='pont'>"
      ]
     },
     "execution_count": 11,
     "metadata": {},
     "output_type": "execute_result"
    },
    {
     "data": {
      "image/png": "[encoded data removed]",
      "text/plain": [
       "<Figure size 1200x600 with 1 Axes>"
      ]
     },
     "metadata": {},
     "output_type": "display_data"
    }
   ],
   "source": [
    "df[['pont','RéelNorm']].groupby('pont').mean().plot(kind='bar', figsize=(12,6))"
   ]
  },
  {
   "cell_type": "code",
   "execution_count": 12,
   "metadata": {},
   "outputs": [
    {
     "data": {
      "text/html": [
       "<div>\n",
       "<style scoped>\n",
       "    .dataframe tbody tr th:only-of-type {\n",
       "        vertical-align: middle;\n",
       "    }\n",
       "\n",
       "    .dataframe tbody tr th {\n",
       "        vertical-align: top;\n",
       "    }\n",
       "\n",
       "    .dataframe thead th {\n",
       "        text-align: right;\n",
       "    }\n",
       "</style>\n",
       "<table border=\"1\" class=\"dataframe\">\n",
       "  <thead>\n",
       "    <tr style=\"text-align: right;\">\n",
       "      <th></th>\n",
       "      <th>RéelNorm</th>\n",
       "    </tr>\n",
       "    <tr>\n",
       "      <th>pont</th>\n",
       "      <th></th>\n",
       "    </tr>\n",
       "  </thead>\n",
       "  <tbody>\n",
       "    <tr>\n",
       "      <th></th>\n",
       "      <td>0.992613</td>\n",
       "    </tr>\n",
       "    <tr>\n",
       "      <th>Armistice</th>\n",
       "      <td>0.945663</td>\n",
       "    </tr>\n",
       "    <tr>\n",
       "      <th>Fête du travail</th>\n",
       "      <td>0.874031</td>\n",
       "    </tr>\n",
       "    <tr>\n",
       "      <th>Victoire des alliés</th>\n",
       "      <td>0.878617</td>\n",
       "    </tr>\n",
       "  </tbody>\n",
       "</table>\n",
       "</div>"
      ],
      "text/plain": [
       "                     RéelNorm\n",
       "pont                         \n",
       "                     0.992613\n",
       "Armistice            0.945663\n",
       "Fête du travail      0.874031\n",
       "Victoire des alliés  0.878617"
      ]
     },
     "execution_count": 12,
     "metadata": {},
     "output_type": "execute_result"
    }
   ],
   "source": [
    "df[['pont','RéelNorm']].groupby('pont').mean()\n"
   ]
  },
  {
   "cell_type": "code",
   "execution_count": 13,
   "metadata": {},
   "outputs": [
    {
     "data": {
      "text/html": [
       "<div>\n",
       "<style scoped>\n",
       "    .dataframe tbody tr th:only-of-type {\n",
       "        vertical-align: middle;\n",
       "    }\n",
       "\n",
       "    .dataframe tbody tr th {\n",
       "        vertical-align: top;\n",
       "    }\n",
       "\n",
       "    .dataframe thead th {\n",
       "        text-align: right;\n",
       "    }\n",
       "</style>\n",
       "<table border=\"1\" class=\"dataframe\">\n",
       "  <thead>\n",
       "    <tr style=\"text-align: right;\">\n",
       "      <th></th>\n",
       "      <th>RéelNorm</th>\n",
       "    </tr>\n",
       "    <tr>\n",
       "      <th>pont</th>\n",
       "      <th></th>\n",
       "    </tr>\n",
       "  </thead>\n",
       "  <tbody>\n",
       "    <tr>\n",
       "      <th></th>\n",
       "      <td>1.000000</td>\n",
       "    </tr>\n",
       "    <tr>\n",
       "      <th>Armistice</th>\n",
       "      <td>0.920904</td>\n",
       "    </tr>\n",
       "    <tr>\n",
       "      <th>Fête du travail</th>\n",
       "      <td>0.853137</td>\n",
       "    </tr>\n",
       "    <tr>\n",
       "      <th>Victoire des alliés</th>\n",
       "      <td>0.866667</td>\n",
       "    </tr>\n",
       "  </tbody>\n",
       "</table>\n",
       "</div>"
      ],
      "text/plain": [
       "                     RéelNorm\n",
       "pont                         \n",
       "                     1.000000\n",
       "Armistice            0.920904\n",
       "Fête du travail      0.853137\n",
       "Victoire des alliés  0.866667"
      ]
     },
     "execution_count": 13,
     "metadata": {},
     "output_type": "execute_result"
    }
   ],
   "source": [
    "df[['pont','RéelNorm']].groupby('pont').median()"
   ]
  },
  {
   "cell_type": "code",
   "execution_count": 14,
   "metadata": {},
   "outputs": [
    {
     "data": {
      "text/html": [
       "<div>\n",
       "<style scoped>\n",
       "    .dataframe tbody tr th:only-of-type {\n",
       "        vertical-align: middle;\n",
       "    }\n",
       "\n",
       "    .dataframe tbody tr th {\n",
       "        vertical-align: top;\n",
       "    }\n",
       "\n",
       "    .dataframe thead th {\n",
       "        text-align: right;\n",
       "    }\n",
       "</style>\n",
       "<table border=\"1\" class=\"dataframe\">\n",
       "  <thead>\n",
       "    <tr style=\"text-align: right;\">\n",
       "      <th></th>\n",
       "      <th>RéelNorm</th>\n",
       "    </tr>\n",
       "    <tr>\n",
       "      <th>pont</th>\n",
       "      <th></th>\n",
       "    </tr>\n",
       "  </thead>\n",
       "  <tbody>\n",
       "    <tr>\n",
       "      <th></th>\n",
       "      <td>126823</td>\n",
       "    </tr>\n",
       "    <tr>\n",
       "      <th>Armistice</th>\n",
       "      <td>169</td>\n",
       "    </tr>\n",
       "    <tr>\n",
       "      <th>Fête du travail</th>\n",
       "      <td>88</td>\n",
       "    </tr>\n",
       "    <tr>\n",
       "      <th>Victoire des alliés</th>\n",
       "      <td>89</td>\n",
       "    </tr>\n",
       "  </tbody>\n",
       "</table>\n",
       "</div>"
      ],
      "text/plain": [
       "                     RéelNorm\n",
       "pont                         \n",
       "                       126823\n",
       "Armistice                 169\n",
       "Fête du travail            88\n",
       "Victoire des alliés        89"
      ]
     },
     "execution_count": 14,
     "metadata": {},
     "output_type": "execute_result"
    }
   ],
   "source": [
    "df[['pont','RéelNorm']].groupby('pont').count()"
   ]
  },
  {
   "cell_type": "code",
   "execution_count": 15,
   "metadata": {},
   "outputs": [
    {
     "data": {
      "text/plain": [
       "0    88\n",
       "4    81\n",
       "Name: joursem, dtype: int64"
      ]
     },
     "execution_count": 15,
     "metadata": {},
     "output_type": "execute_result"
    }
   ],
   "source": [
    "df[df['pont']=='Armistice']['joursem'].value_counts()"
   ]
  },
  {
   "cell_type": "code",
   "execution_count": 16,
   "metadata": {},
   "outputs": [
    {
     "data": {
      "text/plain": [
       "2014-11-10    88\n",
       "2021-11-12    81\n",
       "Name: datetime, dtype: int64"
      ]
     },
     "execution_count": 16,
     "metadata": {},
     "output_type": "execute_result"
    }
   ],
   "source": [
    "df[df['pont']=='Armistice']['datetime'].value_counts()"
   ]
  },
  {
   "cell_type": "code",
   "execution_count": 17,
   "metadata": {},
   "outputs": [
    {
     "data": {
      "text/plain": [
       "0    89\n",
       "Name: joursem, dtype: int64"
      ]
     },
     "execution_count": 17,
     "metadata": {},
     "output_type": "execute_result"
    }
   ],
   "source": [
    "df[df['pont']=='Victoire des alliés']['joursem'].value_counts()"
   ]
  },
  {
   "cell_type": "code",
   "execution_count": 18,
   "metadata": {},
   "outputs": [
    {
     "data": {
      "text/plain": [
       "2012-05-07    89\n",
       "Name: datetime, dtype: int64"
      ]
     },
     "execution_count": 18,
     "metadata": {},
     "output_type": "execute_result"
    }
   ],
   "source": [
    "df[df['pont']=='Victoire des alliés']['datetime'].value_counts()"
   ]
  },
  {
   "cell_type": "code",
   "execution_count": 19,
   "metadata": {},
   "outputs": [
    {
     "data": {
      "text/plain": [
       "0    88\n",
       "Name: joursem, dtype: int64"
      ]
     },
     "execution_count": 19,
     "metadata": {},
     "output_type": "execute_result"
    }
   ],
   "source": [
    "df[df['pont']=='Fête du travail']['joursem'].value_counts()"
   ]
  },
  {
   "cell_type": "code",
   "execution_count": 20,
   "metadata": {},
   "outputs": [
    {
     "data": {
      "text/plain": [
       "2012-04-30    88\n",
       "Name: datetime, dtype: int64"
      ]
     },
     "execution_count": 20,
     "metadata": {},
     "output_type": "execute_result"
    }
   ],
   "source": [
    "df[df['pont']=='Fête du travail']['datetime'].value_counts()"
   ]
  },
  {
   "cell_type": "code",
   "execution_count": 21,
   "metadata": {},
   "outputs": [
    {
     "data": {
      "text/plain": [
       "2012-05-07    89\n",
       "2012-04-30    88\n",
       "2014-11-10    88\n",
       "2021-11-12    81\n",
       "Name: datetime, dtype: int64"
      ]
     },
     "execution_count": 21,
     "metadata": {},
     "output_type": "execute_result"
    }
   ],
   "source": [
    "df[df['pont']!='']['datetime'].value_counts()"
   ]
  },
  {
   "attachments": {},
   "cell_type": "markdown",
   "metadata": {},
   "source": [
    "Pour 4 dates de ponts sur 10 ans le bénéfice du feature pont semble faible.\n",
    "On est tout de même un peu surpris du faible nombre de ponts sur une dizaine d'années."
   ]
  },
  {
   "attachments": {},
   "cell_type": "markdown",
   "metadata": {},
   "source": [
    "Sur le calendrier le mercredi 9 mai 2018 est coincé entre 2 jours fériés et paraissait être un cas intéressant.\n",
    "En fait les cantines ne fonctionnent que trés peu mes mercredis."
   ]
  },
  {
   "cell_type": "code",
   "execution_count": 29,
   "metadata": {},
   "outputs": [
    {
     "data": {
      "text/plain": [
       "1    12222\n",
       "4    12192\n",
       "0    12132\n",
       "3    11669\n",
       "2        1\n",
       "Name: joursem, dtype: int64"
      ]
     },
     "execution_count": 29,
     "metadata": {},
     "output_type": "execute_result"
    }
   ],
   "source": [
    "df[df['datetime']>datetime.datetime.strptime('2018-01-01',\"%Y-%m-%d\")]['joursem'].value_counts()"
   ]
  },
  {
   "cell_type": "code",
   "execution_count": 30,
   "metadata": {},
   "outputs": [
    {
     "data": {
      "text/html": [
       "<div>\n",
       "<style scoped>\n",
       "    .dataframe tbody tr th:only-of-type {\n",
       "        vertical-align: middle;\n",
       "    }\n",
       "\n",
       "    .dataframe tbody tr th {\n",
       "        vertical-align: top;\n",
       "    }\n",
       "\n",
       "    .dataframe thead th {\n",
       "        text-align: right;\n",
       "    }\n",
       "</style>\n",
       "<table border=\"1\" class=\"dataframe\">\n",
       "  <thead>\n",
       "    <tr style=\"text-align: right;\">\n",
       "      <th></th>\n",
       "      <th>RowNo</th>\n",
       "      <th>Type de site</th>\n",
       "      <th>Date</th>\n",
       "      <th>Prévision</th>\n",
       "      <th>Réel</th>\n",
       "      <th>Nom du site</th>\n",
       "      <th>An</th>\n",
       "      <th>RéelMed</th>\n",
       "      <th>RéelNorm</th>\n",
       "      <th>datetime</th>\n",
       "      <th>joursem</th>\n",
       "      <th>isoweek</th>\n",
       "      <th>pont</th>\n",
       "    </tr>\n",
       "  </thead>\n",
       "  <tbody>\n",
       "    <tr>\n",
       "      <th>49741</th>\n",
       "      <td>51068</td>\n",
       "      <td>M</td>\n",
       "      <td>2020-03-25</td>\n",
       "      <td>0.0</td>\n",
       "      <td>25.0</td>\n",
       "      <td>JOSEPH BLANCHART</td>\n",
       "      <td>2020</td>\n",
       "      <td>89.0</td>\n",
       "      <td>0.280899</td>\n",
       "      <td>2020-03-25</td>\n",
       "      <td>2</td>\n",
       "      <td>13</td>\n",
       "      <td></td>\n",
       "    </tr>\n",
       "  </tbody>\n",
       "</table>\n",
       "</div>"
      ],
      "text/plain": [
       "       RowNo Type de site        Date  Prévision  Réel       Nom du site  \\\n",
       "49741  51068            M  2020-03-25        0.0  25.0  JOSEPH BLANCHART   \n",
       "\n",
       "         An  RéelMed  RéelNorm   datetime  joursem  isoweek pont  \n",
       "49741  2020     89.0  0.280899 2020-03-25        2       13       "
      ]
     },
     "execution_count": 30,
     "metadata": {},
     "output_type": "execute_result"
    }
   ],
   "source": [
    "df[((df['datetime']>datetime.datetime.strptime('2016-01-01',\"%Y-%m-%d\"))&(df['joursem']==2))]"
   ]
  },
  {
   "cell_type": "code",
   "execution_count": 31,
   "metadata": {},
   "outputs": [
    {
     "data": {
      "text/plain": [
       "2011-06-01    88\n",
       "2013-05-22    88\n",
       "2013-04-03    88\n",
       "2012-05-16    88\n",
       "2014-06-11    88\n",
       "2015-05-13    88\n",
       "2014-05-28    87\n",
       "2014-04-23    87\n",
       "2020-03-25     1\n",
       "Name: datetime, dtype: int64"
      ]
     },
     "execution_count": 31,
     "metadata": {},
     "output_type": "execute_result"
    }
   ],
   "source": [
    "df[((df['joursem']==2))]['datetime'].value_counts()"
   ]
  },
  {
   "cell_type": "code",
   "execution_count": null,
   "metadata": {},
   "outputs": [
    {
     "data": {
      "text/plain": [
       "count    703.000000\n",
       "mean       0.861896\n",
       "std        0.167372\n",
       "min        0.278146\n",
       "25%        0.779243\n",
       "50%        0.862069\n",
       "75%        0.928570\n",
       "max        1.617391\n",
       "Name: RéelNorm, dtype: float64"
      ]
     },
     "execution_count": 169,
     "metadata": {},
     "output_type": "execute_result"
    }
   ],
   "source": [
    "df[((df['joursem']==2))]['RéelNorm'].describe()"
   ]
  }
 ],
 "metadata": {
  "kernelspec": {
   "display_name": "Python 3",
   "language": "python",
   "name": "python3"
  },
  "language_info": {
   "codemirror_mode": {
    "name": "ipython",
    "version": 3
   },
   "file_extension": ".py",
   "mimetype": "text/x-python",
   "name": "python",
   "nbconvert_exporter": "python",
   "pygments_lexer": "ipython3",
   "version": "3.10.11"
  },
  "orig_nbformat": 4,
  "vscode": {
   "interpreter": {
    "hash": "6cd296cbf4053a518fd76b85d2c9ab905c5973094489634866e40cbfd15a8405"
   }
  }
 },
 "nbformat": 4,
 "nbformat_minor": 2
}
