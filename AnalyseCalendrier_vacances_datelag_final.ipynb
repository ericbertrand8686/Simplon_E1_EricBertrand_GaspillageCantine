{
 "cells": [
  {
   "cell_type": "code",
   "execution_count": 318,
   "metadata": {},
   "outputs": [],
   "source": [
    "import pandas as pd\n",
    "import numpy as np\n",
    "import matplotlib.pyplot as plt\n",
    "import datetime, os\n",
    "\n"
   ]
  },
  {
   "cell_type": "code",
   "execution_count": 319,
   "metadata": {},
   "outputs": [
    {
     "data": {
      "text/plain": [
       "['AntoineAugusti_Vacances_19902026.csv',\n",
       " 'AntoineAugusti_Vacances_Table_19902026.csv',\n",
       " 'AntoineAugusti_Vacances_Table_19902026_nonCorrigé.csv',\n",
       " 'code_etablissement.csv',\n",
       " 'Effectifs_ecoles.csv',\n",
       " 'fetes_chretiennes.csv',\n",
       " 'fetes_juives.csv',\n",
       " 'fetes_musulmanes.csv',\n",
       " 'frequentation_cantines_v3.csv',\n",
       " 'incidence RDD 3.csv',\n",
       " 'incidence RDD 6.csv',\n",
       " 'incidence RDD 7.csv',\n",
       " 'Journees_de_greve.csv',\n",
       " 'jours-feries-seuls.csv',\n",
       " 'key_jours.xlsx',\n",
       " 'Liste ETS_geo_AE12102020.xlsx',\n",
       " 'menus_2011-2015.csv',\n",
       " 'menus_2016-2019.csv',\n",
       " 'missing_strikes.xlsx',\n",
       " 'mouvements-sociaux-depuis-2002.csv',\n",
       " 'mouvements-sociaux-depuis-2002.json',\n",
       " 'orga_des_etablissements.xlsx',\n",
       " 'ramadan.csv',\n",
       " 'vacances_Nantes_2011-2019.csv']"
      ]
     },
     "execution_count": 319,
     "metadata": {},
     "output_type": "execute_result"
    }
   ],
   "source": [
    "df_files = os.listdir('../../data/DataGithub/')\n",
    "df_files"
   ]
  },
  {
   "cell_type": "code",
   "execution_count": 320,
   "metadata": {},
   "outputs": [
    {
     "data": {
      "text/html": [
       "<div>\n",
       "<style scoped>\n",
       "    .dataframe tbody tr th:only-of-type {\n",
       "        vertical-align: middle;\n",
       "    }\n",
       "\n",
       "    .dataframe tbody tr th {\n",
       "        vertical-align: top;\n",
       "    }\n",
       "\n",
       "    .dataframe thead th {\n",
       "        text-align: right;\n",
       "    }\n",
       "</style>\n",
       "<table border=\"1\" class=\"dataframe\">\n",
       "  <thead>\n",
       "    <tr style=\"text-align: right;\">\n",
       "      <th></th>\n",
       "      <th>RowNo</th>\n",
       "      <th>Type de site</th>\n",
       "      <th>Date</th>\n",
       "      <th>Prévision</th>\n",
       "      <th>Réel</th>\n",
       "      <th>Nom du site</th>\n",
       "      <th>An</th>\n",
       "      <th>RéelMed</th>\n",
       "      <th>RéelNorm</th>\n",
       "      <th>datetime</th>\n",
       "      <th>joursem</th>\n",
       "      <th>isoweek</th>\n",
       "    </tr>\n",
       "  </thead>\n",
       "  <tbody>\n",
       "    <tr>\n",
       "      <th>0</th>\n",
       "      <td>0</td>\n",
       "      <td>M/E</td>\n",
       "      <td>2011-09-06</td>\n",
       "      <td>290.0</td>\n",
       "      <td>271.0</td>\n",
       "      <td>LEDRU ROLLIN/SARAH BERNHARDT</td>\n",
       "      <td>2011</td>\n",
       "      <td>308.0</td>\n",
       "      <td>0.879870</td>\n",
       "      <td>2011-09-06</td>\n",
       "      <td>1</td>\n",
       "      <td>36</td>\n",
       "    </tr>\n",
       "    <tr>\n",
       "      <th>1</th>\n",
       "      <td>1</td>\n",
       "      <td>M/E</td>\n",
       "      <td>2011-09-05</td>\n",
       "      <td>95.0</td>\n",
       "      <td>102.0</td>\n",
       "      <td>BEAUJOIRE</td>\n",
       "      <td>2011</td>\n",
       "      <td>129.0</td>\n",
       "      <td>0.790698</td>\n",
       "      <td>2011-09-05</td>\n",
       "      <td>0</td>\n",
       "      <td>36</td>\n",
       "    </tr>\n",
       "    <tr>\n",
       "      <th>2</th>\n",
       "      <td>2</td>\n",
       "      <td>M/E</td>\n",
       "      <td>2011-09-05</td>\n",
       "      <td>167.0</td>\n",
       "      <td>171.0</td>\n",
       "      <td>CONTRIE</td>\n",
       "      <td>2011</td>\n",
       "      <td>211.0</td>\n",
       "      <td>0.810427</td>\n",
       "      <td>2011-09-05</td>\n",
       "      <td>0</td>\n",
       "      <td>36</td>\n",
       "    </tr>\n",
       "    <tr>\n",
       "      <th>3</th>\n",
       "      <td>3</td>\n",
       "      <td>M</td>\n",
       "      <td>2011-09-05</td>\n",
       "      <td>80.0</td>\n",
       "      <td>64.0</td>\n",
       "      <td>COUDRAY M.</td>\n",
       "      <td>2011</td>\n",
       "      <td>77.0</td>\n",
       "      <td>0.831169</td>\n",
       "      <td>2011-09-05</td>\n",
       "      <td>0</td>\n",
       "      <td>36</td>\n",
       "    </tr>\n",
       "    <tr>\n",
       "      <th>4</th>\n",
       "      <td>4</td>\n",
       "      <td>M</td>\n",
       "      <td>2011-09-05</td>\n",
       "      <td>73.0</td>\n",
       "      <td>77.0</td>\n",
       "      <td>FONTENY</td>\n",
       "      <td>2011</td>\n",
       "      <td>92.0</td>\n",
       "      <td>0.836957</td>\n",
       "      <td>2011-09-05</td>\n",
       "      <td>0</td>\n",
       "      <td>36</td>\n",
       "    </tr>\n",
       "  </tbody>\n",
       "</table>\n",
       "</div>"
      ],
      "text/plain": [
       "   RowNo Type de site        Date  Prévision   Réel  \\\n",
       "0      0          M/E  2011-09-06      290.0  271.0   \n",
       "1      1          M/E  2011-09-05       95.0  102.0   \n",
       "2      2          M/E  2011-09-05      167.0  171.0   \n",
       "3      3            M  2011-09-05       80.0   64.0   \n",
       "4      4            M  2011-09-05       73.0   77.0   \n",
       "\n",
       "                    Nom du site    An  RéelMed  RéelNorm   datetime  joursem  \\\n",
       "0  LEDRU ROLLIN/SARAH BERNHARDT  2011    308.0  0.879870 2011-09-06        1   \n",
       "1                     BEAUJOIRE  2011    129.0  0.790698 2011-09-05        0   \n",
       "2                       CONTRIE  2011    211.0  0.810427 2011-09-05        0   \n",
       "3                    COUDRAY M.  2011     77.0  0.831169 2011-09-05        0   \n",
       "4                       FONTENY  2011     92.0  0.836957 2011-09-05        0   \n",
       "\n",
       "   isoweek  \n",
       "0       36  \n",
       "1       36  \n",
       "2       36  \n",
       "3       36  \n",
       "4       36  "
      ]
     },
     "execution_count": 320,
     "metadata": {},
     "output_type": "execute_result"
    }
   ],
   "source": [
    "df = pd.read_csv('244400404_effectifs-eleves-cleaned')\n",
    "df['datetime']= df['Date'].apply( lambda string1 : datetime.datetime.strptime(string1,\"%Y-%m-%d\"))\n",
    "df['joursem']= df['datetime'].apply( lambda date1 : date1.weekday())\n",
    "df['isoweek']= df['datetime'].apply( lambda date1 : date1.isocalendar().week)\n",
    "df.head()"
   ]
  },
  {
   "cell_type": "code",
   "execution_count": 321,
   "metadata": {},
   "outputs": [
    {
     "data": {
      "text/plain": [
       "array(['2011-01-03T00:00:00.000000000', '2011-01-04T00:00:00.000000000',\n",
       "       '2011-01-06T00:00:00.000000000', ...,\n",
       "       '2022-05-20T00:00:00.000000000', '2022-05-23T00:00:00.000000000',\n",
       "       '2022-05-24T00:00:00.000000000'], dtype='datetime64[ns]')"
      ]
     },
     "execution_count": 321,
     "metadata": {},
     "output_type": "execute_result"
    }
   ],
   "source": [
    "df_calend=pd.read_csv('../../data/SiteNantes/CSV/244400404_nombre-convives-jour-cantine-nantes-2011.csv', sep=';')\n",
    "df_calend['datetime']= df_calend['Date'].apply( lambda string1 : datetime.datetime.strptime(string1,\"%Y-%m-%d\")) \n",
    "df_calend=df_calend['datetime'].unique()\n",
    "df_calend = np.sort(df_calend)\n",
    "df_calend.reshape(-1,1)\n",
    "df_calend"
   ]
  },
  {
   "cell_type": "code",
   "execution_count": 322,
   "metadata": {},
   "outputs": [],
   "source": [
    "df_calend3 = pd.DataFrame(df_calend)\n",
    "df_calend3.rename(columns={0: 'datetime'}, inplace=True)\n",
    "df_calend3['joursem']= df_calend3['datetime'].apply( lambda date1 : date1.weekday())\n",
    "df_calend3['isoweek']= df_calend3['datetime'].apply( lambda date1 : date1.isocalendar().week)\n",
    "df_calend3['an']= df_calend3['datetime'].apply( lambda date1 : date1.year)\n",
    "# df_calend3.head()"
   ]
  },
  {
   "cell_type": "code",
   "execution_count": 323,
   "metadata": {},
   "outputs": [],
   "source": [
    "df_ponts=[[df_calend[i],int(min(abs(df_calend[i]-df_calend[i-1]),abs(df_calend[i+1]-df_calend[i]))/np.timedelta64(1, \"D\")-1)] for i in range(1,len(df_calend)-1) ]\n",
    "df_ponts=pd.DataFrame(df_ponts)\n",
    "df_ponts.rename(columns={0: 'datetime', 1: 'datelag'}, inplace=True)"
   ]
  },
  {
   "cell_type": "code",
   "execution_count": 324,
   "metadata": {},
   "outputs": [],
   "source": [
    "df_lagbefore=[[df_calend[i],int(abs(df_calend[i]-df_calend[i-1])/np.timedelta64(1, \"D\"))-1] for i in range(1,len(df_calend)) ]\n",
    "df_lagbefore=pd.DataFrame(df_lagbefore)\n",
    "df_lagbefore.rename(columns={0: 'datetime', 1: 'lagbefore'}, inplace=True)"
   ]
  },
  {
   "cell_type": "code",
   "execution_count": 325,
   "metadata": {},
   "outputs": [],
   "source": [
    "df_lagafter=[[df_calend[i],int(abs(df_calend[i+1]-df_calend[i])/np.timedelta64(1, \"D\"))-1] for i in range(0,len(df_calend)-1) ]\n",
    "df_lagafter=pd.DataFrame(df_lagafter)\n",
    "df_lagafter.rename(columns={0: 'datetime', 1: 'lagafter'}, inplace=True)"
   ]
  },
  {
   "cell_type": "code",
   "execution_count": 326,
   "metadata": {},
   "outputs": [],
   "source": [
    "df_calend3=pd.merge(df_calend3, df_ponts, how='left', on='datetime')\n",
    "df_calend3=pd.merge(df_calend3, df_lagbefore, how='left', on='datetime')\n",
    "df_calend3=pd.merge(df_calend3, df_lagafter, how='left', on='datetime')\n",
    "\n",
    "df_calend3['datelag'].fillna(0, inplace=True)\n",
    "df_calend3['lagbefore'].fillna(0, inplace=True)\n",
    "df_calend3['lagafter'].fillna(0, inplace=True)"
   ]
  },
  {
   "cell_type": "code",
   "execution_count": 327,
   "metadata": {},
   "outputs": [
    {
     "data": {
      "text/html": [
       "<div>\n",
       "<style scoped>\n",
       "    .dataframe tbody tr th:only-of-type {\n",
       "        vertical-align: middle;\n",
       "    }\n",
       "\n",
       "    .dataframe tbody tr th {\n",
       "        vertical-align: top;\n",
       "    }\n",
       "\n",
       "    .dataframe thead th {\n",
       "        text-align: right;\n",
       "    }\n",
       "</style>\n",
       "<table border=\"1\" class=\"dataframe\">\n",
       "  <thead>\n",
       "    <tr style=\"text-align: right;\">\n",
       "      <th></th>\n",
       "      <th>datetime</th>\n",
       "      <th>joursem</th>\n",
       "      <th>isoweek</th>\n",
       "      <th>an</th>\n",
       "      <th>datelag</th>\n",
       "      <th>lagbefore</th>\n",
       "      <th>lagafter</th>\n",
       "    </tr>\n",
       "  </thead>\n",
       "  <tbody>\n",
       "    <tr>\n",
       "      <th>0</th>\n",
       "      <td>2011-01-03</td>\n",
       "      <td>0</td>\n",
       "      <td>1</td>\n",
       "      <td>2011</td>\n",
       "      <td>0.0</td>\n",
       "      <td>0.0</td>\n",
       "      <td>0.0</td>\n",
       "    </tr>\n",
       "    <tr>\n",
       "      <th>1</th>\n",
       "      <td>2011-01-04</td>\n",
       "      <td>1</td>\n",
       "      <td>1</td>\n",
       "      <td>2011</td>\n",
       "      <td>0.0</td>\n",
       "      <td>0.0</td>\n",
       "      <td>1.0</td>\n",
       "    </tr>\n",
       "    <tr>\n",
       "      <th>2</th>\n",
       "      <td>2011-01-06</td>\n",
       "      <td>3</td>\n",
       "      <td>1</td>\n",
       "      <td>2011</td>\n",
       "      <td>0.0</td>\n",
       "      <td>1.0</td>\n",
       "      <td>0.0</td>\n",
       "    </tr>\n",
       "    <tr>\n",
       "      <th>3</th>\n",
       "      <td>2011-01-07</td>\n",
       "      <td>4</td>\n",
       "      <td>1</td>\n",
       "      <td>2011</td>\n",
       "      <td>0.0</td>\n",
       "      <td>0.0</td>\n",
       "      <td>2.0</td>\n",
       "    </tr>\n",
       "    <tr>\n",
       "      <th>4</th>\n",
       "      <td>2011-01-10</td>\n",
       "      <td>0</td>\n",
       "      <td>2</td>\n",
       "      <td>2011</td>\n",
       "      <td>0.0</td>\n",
       "      <td>2.0</td>\n",
       "      <td>0.0</td>\n",
       "    </tr>\n",
       "  </tbody>\n",
       "</table>\n",
       "</div>"
      ],
      "text/plain": [
       "    datetime  joursem  isoweek    an  datelag  lagbefore  lagafter\n",
       "0 2011-01-03        0        1  2011      0.0        0.0       0.0\n",
       "1 2011-01-04        1        1  2011      0.0        0.0       1.0\n",
       "2 2011-01-06        3        1  2011      0.0        1.0       0.0\n",
       "3 2011-01-07        4        1  2011      0.0        0.0       2.0\n",
       "4 2011-01-10        0        2  2011      0.0        2.0       0.0"
      ]
     },
     "execution_count": 327,
     "metadata": {},
     "output_type": "execute_result"
    }
   ],
   "source": [
    "df_calend3.head()"
   ]
  },
  {
   "cell_type": "code",
   "execution_count": 328,
   "metadata": {},
   "outputs": [
    {
     "data": {
      "text/html": [
       "<div>\n",
       "<style scoped>\n",
       "    .dataframe tbody tr th:only-of-type {\n",
       "        vertical-align: middle;\n",
       "    }\n",
       "\n",
       "    .dataframe tbody tr th {\n",
       "        vertical-align: top;\n",
       "    }\n",
       "\n",
       "    .dataframe thead th {\n",
       "        text-align: right;\n",
       "    }\n",
       "</style>\n",
       "<table border=\"1\" class=\"dataframe\">\n",
       "  <thead>\n",
       "    <tr style=\"text-align: right;\">\n",
       "      <th></th>\n",
       "      <th>An</th>\n",
       "      <th>Fin_Noel</th>\n",
       "      <th>Deb_Hiver</th>\n",
       "      <th>Fin_Hiver</th>\n",
       "      <th>Deb_Printemps</th>\n",
       "      <th>Fin_Printemps</th>\n",
       "      <th>Deb_Eté</th>\n",
       "      <th>Fin_Eté</th>\n",
       "      <th>Deb_Toussaint</th>\n",
       "      <th>Fin_Toussaint</th>\n",
       "      <th>Deb_Noel</th>\n",
       "    </tr>\n",
       "  </thead>\n",
       "  <tbody>\n",
       "    <tr>\n",
       "      <th>0</th>\n",
       "      <td>1991.0</td>\n",
       "      <td>06/01/1991</td>\n",
       "      <td>16/02/1991</td>\n",
       "      <td>03/03/1991</td>\n",
       "      <td>20/04/1991</td>\n",
       "      <td>05/05/1991</td>\n",
       "      <td>07/07/1991</td>\n",
       "      <td>09/09/1991</td>\n",
       "      <td>26/10/1991</td>\n",
       "      <td>03/11/1991</td>\n",
       "      <td>21/12/1991</td>\n",
       "    </tr>\n",
       "    <tr>\n",
       "      <th>1</th>\n",
       "      <td>1992.0</td>\n",
       "      <td>05/01/1992</td>\n",
       "      <td>15/02/1992</td>\n",
       "      <td>01/03/1992</td>\n",
       "      <td>11/04/1992</td>\n",
       "      <td>26/04/1992</td>\n",
       "      <td>09/07/1992</td>\n",
       "      <td>09/09/1992</td>\n",
       "      <td>24/10/1992</td>\n",
       "      <td>01/11/1992</td>\n",
       "      <td>19/12/1992</td>\n",
       "    </tr>\n",
       "    <tr>\n",
       "      <th>2</th>\n",
       "      <td>1993.0</td>\n",
       "      <td>03/01/1993</td>\n",
       "      <td>27/02/1993</td>\n",
       "      <td>14/03/1993</td>\n",
       "      <td>24/04/1993</td>\n",
       "      <td>09/05/1993</td>\n",
       "      <td>08/07/1993</td>\n",
       "      <td>06/09/1993</td>\n",
       "      <td>23/10/1993</td>\n",
       "      <td>01/11/1993</td>\n",
       "      <td>18/12/1993</td>\n",
       "    </tr>\n",
       "    <tr>\n",
       "      <th>3</th>\n",
       "      <td>1994.0</td>\n",
       "      <td>02/01/1994</td>\n",
       "      <td>26/02/1994</td>\n",
       "      <td>13/03/1994</td>\n",
       "      <td>23/04/1994</td>\n",
       "      <td>08/05/1994</td>\n",
       "      <td>06/07/1994</td>\n",
       "      <td>07/09/1994</td>\n",
       "      <td>25/10/1994</td>\n",
       "      <td>06/11/1994</td>\n",
       "      <td>20/12/1994</td>\n",
       "    </tr>\n",
       "    <tr>\n",
       "      <th>4</th>\n",
       "      <td>1995.0</td>\n",
       "      <td>03/01/1995</td>\n",
       "      <td>11/02/1995</td>\n",
       "      <td>26/02/1995</td>\n",
       "      <td>08/04/1995</td>\n",
       "      <td>23/04/1995</td>\n",
       "      <td>06/07/1995</td>\n",
       "      <td>04/09/1995</td>\n",
       "      <td>26/10/1995</td>\n",
       "      <td>05/11/1995</td>\n",
       "      <td>23/12/1995</td>\n",
       "    </tr>\n",
       "  </tbody>\n",
       "</table>\n",
       "</div>"
      ],
      "text/plain": [
       "       An    Fin_Noel   Deb_Hiver   Fin_Hiver Deb_Printemps Fin_Printemps  \\\n",
       "0  1991.0  06/01/1991  16/02/1991  03/03/1991    20/04/1991    05/05/1991   \n",
       "1  1992.0  05/01/1992  15/02/1992  01/03/1992    11/04/1992    26/04/1992   \n",
       "2  1993.0  03/01/1993  27/02/1993  14/03/1993    24/04/1993    09/05/1993   \n",
       "3  1994.0  02/01/1994  26/02/1994  13/03/1994    23/04/1994    08/05/1994   \n",
       "4  1995.0  03/01/1995  11/02/1995  26/02/1995    08/04/1995    23/04/1995   \n",
       "\n",
       "      Deb_Eté     Fin_Eté Deb_Toussaint Fin_Toussaint    Deb_Noel  \n",
       "0  07/07/1991  09/09/1991    26/10/1991    03/11/1991  21/12/1991  \n",
       "1  09/07/1992  09/09/1992    24/10/1992    01/11/1992  19/12/1992  \n",
       "2  08/07/1993  06/09/1993    23/10/1993    01/11/1993  18/12/1993  \n",
       "3  06/07/1994  07/09/1994    25/10/1994    06/11/1994  20/12/1994  \n",
       "4  06/07/1995  04/09/1995    26/10/1995    05/11/1995  23/12/1995  "
      ]
     },
     "execution_count": 328,
     "metadata": {},
     "output_type": "execute_result"
    }
   ],
   "source": [
    "df_calend_official = pd.read_csv('../../data/DataGithub/AntoineAugusti_Vacances_Table_19902026.csv',encoding='latin1',sep=';')\n",
    "df_calend_official.head()"
   ]
  },
  {
   "cell_type": "code",
   "execution_count": 329,
   "metadata": {},
   "outputs": [],
   "source": [
    "df_calend_official=df_calend_official[0:35]"
   ]
  },
  {
   "cell_type": "code",
   "execution_count": 330,
   "metadata": {},
   "outputs": [],
   "source": [
    "df_calend_official['An'] = df_calend_official['An'].astype(int)"
   ]
  },
  {
   "cell_type": "code",
   "execution_count": 331,
   "metadata": {},
   "outputs": [],
   "source": [
    "frenchdate = lambda date1 : datetime.datetime.strptime(date1,\"%d/%m/%Y\")\n",
    "usadate = lambda string1 : datetime.datetime.strptime(string1,\"%Y-%m-%d\")"
   ]
  },
  {
   "cell_type": "code",
   "execution_count": 332,
   "metadata": {},
   "outputs": [],
   "source": [
    "df_calend_official['Fin_Noel'] = df_calend_official['Fin_Noel'].apply(frenchdate)\n",
    "df_calend_official['Deb_Hiver'] = df_calend_official['Deb_Hiver'].apply(frenchdate)\n",
    "df_calend_official['Fin_Hiver'] = df_calend_official['Fin_Hiver'].apply(frenchdate)\n",
    "df_calend_official['Deb_Printemps'] = df_calend_official['Deb_Printemps'].apply(frenchdate)\n",
    "df_calend_official['Fin_Printemps'] = df_calend_official['Fin_Printemps'].apply(frenchdate)\n",
    "df_calend_official['Deb_Eté'] = df_calend_official['Deb_Eté'].apply(frenchdate)\n",
    "df_calend_official['Fin_Eté'] = df_calend_official['Fin_Eté'].apply(frenchdate)\n",
    "df_calend_official['Deb_Toussaint'] = df_calend_official['Deb_Toussaint'].apply(frenchdate)\n",
    "df_calend_official['Fin_Toussaint'] = df_calend_official['Fin_Toussaint'].apply(frenchdate)\n",
    "df_calend_official['Deb_Noel'] = df_calend_official['Deb_Noel'].apply(frenchdate)\n"
   ]
  },
  {
   "cell_type": "code",
   "execution_count": 333,
   "metadata": {},
   "outputs": [
    {
     "data": {
      "text/html": [
       "<div>\n",
       "<style scoped>\n",
       "    .dataframe tbody tr th:only-of-type {\n",
       "        vertical-align: middle;\n",
       "    }\n",
       "\n",
       "    .dataframe tbody tr th {\n",
       "        vertical-align: top;\n",
       "    }\n",
       "\n",
       "    .dataframe thead th {\n",
       "        text-align: right;\n",
       "    }\n",
       "</style>\n",
       "<table border=\"1\" class=\"dataframe\">\n",
       "  <thead>\n",
       "    <tr style=\"text-align: right;\">\n",
       "      <th></th>\n",
       "      <th>An</th>\n",
       "      <th>Fin_Noel</th>\n",
       "      <th>Deb_Hiver</th>\n",
       "      <th>Fin_Hiver</th>\n",
       "      <th>Deb_Printemps</th>\n",
       "      <th>Fin_Printemps</th>\n",
       "      <th>Deb_Eté</th>\n",
       "      <th>Fin_Eté</th>\n",
       "      <th>Deb_Toussaint</th>\n",
       "      <th>Fin_Toussaint</th>\n",
       "      <th>Deb_Noel</th>\n",
       "    </tr>\n",
       "  </thead>\n",
       "  <tbody>\n",
       "    <tr>\n",
       "      <th>0</th>\n",
       "      <td>1991</td>\n",
       "      <td>1991-01-06</td>\n",
       "      <td>1991-02-16</td>\n",
       "      <td>1991-03-03</td>\n",
       "      <td>1991-04-20</td>\n",
       "      <td>1991-05-05</td>\n",
       "      <td>1991-07-07</td>\n",
       "      <td>1991-09-09</td>\n",
       "      <td>1991-10-26</td>\n",
       "      <td>1991-11-03</td>\n",
       "      <td>1991-12-21</td>\n",
       "    </tr>\n",
       "    <tr>\n",
       "      <th>1</th>\n",
       "      <td>1992</td>\n",
       "      <td>1992-01-05</td>\n",
       "      <td>1992-02-15</td>\n",
       "      <td>1992-03-01</td>\n",
       "      <td>1992-04-11</td>\n",
       "      <td>1992-04-26</td>\n",
       "      <td>1992-07-09</td>\n",
       "      <td>1992-09-09</td>\n",
       "      <td>1992-10-24</td>\n",
       "      <td>1992-11-01</td>\n",
       "      <td>1992-12-19</td>\n",
       "    </tr>\n",
       "    <tr>\n",
       "      <th>2</th>\n",
       "      <td>1993</td>\n",
       "      <td>1993-01-03</td>\n",
       "      <td>1993-02-27</td>\n",
       "      <td>1993-03-14</td>\n",
       "      <td>1993-04-24</td>\n",
       "      <td>1993-05-09</td>\n",
       "      <td>1993-07-08</td>\n",
       "      <td>1993-09-06</td>\n",
       "      <td>1993-10-23</td>\n",
       "      <td>1993-11-01</td>\n",
       "      <td>1993-12-18</td>\n",
       "    </tr>\n",
       "    <tr>\n",
       "      <th>3</th>\n",
       "      <td>1994</td>\n",
       "      <td>1994-01-02</td>\n",
       "      <td>1994-02-26</td>\n",
       "      <td>1994-03-13</td>\n",
       "      <td>1994-04-23</td>\n",
       "      <td>1994-05-08</td>\n",
       "      <td>1994-07-06</td>\n",
       "      <td>1994-09-07</td>\n",
       "      <td>1994-10-25</td>\n",
       "      <td>1994-11-06</td>\n",
       "      <td>1994-12-20</td>\n",
       "    </tr>\n",
       "    <tr>\n",
       "      <th>4</th>\n",
       "      <td>1995</td>\n",
       "      <td>1995-01-03</td>\n",
       "      <td>1995-02-11</td>\n",
       "      <td>1995-02-26</td>\n",
       "      <td>1995-04-08</td>\n",
       "      <td>1995-04-23</td>\n",
       "      <td>1995-07-06</td>\n",
       "      <td>1995-09-04</td>\n",
       "      <td>1995-10-26</td>\n",
       "      <td>1995-11-05</td>\n",
       "      <td>1995-12-23</td>\n",
       "    </tr>\n",
       "  </tbody>\n",
       "</table>\n",
       "</div>"
      ],
      "text/plain": [
       "     An   Fin_Noel  Deb_Hiver  Fin_Hiver Deb_Printemps Fin_Printemps  \\\n",
       "0  1991 1991-01-06 1991-02-16 1991-03-03    1991-04-20    1991-05-05   \n",
       "1  1992 1992-01-05 1992-02-15 1992-03-01    1992-04-11    1992-04-26   \n",
       "2  1993 1993-01-03 1993-02-27 1993-03-14    1993-04-24    1993-05-09   \n",
       "3  1994 1994-01-02 1994-02-26 1994-03-13    1994-04-23    1994-05-08   \n",
       "4  1995 1995-01-03 1995-02-11 1995-02-26    1995-04-08    1995-04-23   \n",
       "\n",
       "     Deb_Eté    Fin_Eté Deb_Toussaint Fin_Toussaint   Deb_Noel  \n",
       "0 1991-07-07 1991-09-09    1991-10-26    1991-11-03 1991-12-21  \n",
       "1 1992-07-09 1992-09-09    1992-10-24    1992-11-01 1992-12-19  \n",
       "2 1993-07-08 1993-09-06    1993-10-23    1993-11-01 1993-12-18  \n",
       "3 1994-07-06 1994-09-07    1994-10-25    1994-11-06 1994-12-20  \n",
       "4 1995-07-06 1995-09-04    1995-10-26    1995-11-05 1995-12-23  "
      ]
     },
     "execution_count": 333,
     "metadata": {},
     "output_type": "execute_result"
    }
   ],
   "source": [
    "df_calend_official.head()"
   ]
  },
  {
   "cell_type": "code",
   "execution_count": 334,
   "metadata": {},
   "outputs": [],
   "source": [
    "df_calend_official.set_index('An', inplace=True)"
   ]
  },
  {
   "cell_type": "code",
   "execution_count": 335,
   "metadata": {},
   "outputs": [],
   "source": [
    "cal_season = lambda date1 : (date1>df_calend_official.loc[date1.year]['Fin_Noel'])\\\n",
    "    + (date1>df_calend_official.loc[date1.year]['Fin_Hiver'])\\\n",
    "    + (date1>df_calend_official.loc[date1.year]['Fin_Printemps'])\\\n",
    "    + (date1>df_calend_official.loc[date1.year]['Fin_Eté'])\\\n",
    "    + (date1>df_calend_official.loc[date1.year]['Fin_Toussaint'])"
   ]
  },
  {
   "cell_type": "code",
   "execution_count": 336,
   "metadata": {},
   "outputs": [],
   "source": [
    "list_seasons = ['Noel', 'Hiver', 'Printemps', 'Eté', 'Toussaint']"
   ]
  },
  {
   "cell_type": "code",
   "execution_count": 337,
   "metadata": {},
   "outputs": [],
   "source": [
    "cycle_seasons = lambda x1 : list_seasons[(x1 % 5)-1]"
   ]
  },
  {
   "cell_type": "code",
   "execution_count": 338,
   "metadata": {},
   "outputs": [],
   "source": [
    "problem_date = lambda date1 : (date1 <= df_calend_official.loc[date1.year]['Fin_Noel'] or date1>=df_calend_official.loc[date1.year]['Deb_Noel'])\\\n",
    "    or (date1>=df_calend_official.loc[date1.year]['Deb_Hiver'] and date1<=df_calend_official.loc[date1.year]['Fin_Hiver'])\\\n",
    "    or (date1>=df_calend_official.loc[date1.year]['Deb_Printemps'] and date1<=df_calend_official.loc[date1.year]['Fin_Printemps'])\\\n",
    "    or (date1>=df_calend_official.loc[date1.year]['Deb_Eté'] and date1<=df_calend_official.loc[date1.year]['Fin_Eté'])\\\n",
    "    or (date1>=df_calend_official.loc[date1.year]['Deb_Toussaint'] and date1<=df_calend_official.loc[date1.year]['Fin_Toussaint'])"
   ]
  },
  {
   "cell_type": "code",
   "execution_count": 339,
   "metadata": {},
   "outputs": [],
   "source": [
    "df_calend3['Saison'] = df_calend3['datetime'].apply(cal_season)"
   ]
  },
  {
   "cell_type": "code",
   "execution_count": 340,
   "metadata": {},
   "outputs": [],
   "source": [
    "df_calend3['Problème'] = df_calend3['datetime'].apply(problem_date)"
   ]
  },
  {
   "cell_type": "code",
   "execution_count": 341,
   "metadata": {},
   "outputs": [
    {
     "data": {
      "text/html": [
       "<div>\n",
       "<style scoped>\n",
       "    .dataframe tbody tr th:only-of-type {\n",
       "        vertical-align: middle;\n",
       "    }\n",
       "\n",
       "    .dataframe tbody tr th {\n",
       "        vertical-align: top;\n",
       "    }\n",
       "\n",
       "    .dataframe thead th {\n",
       "        text-align: right;\n",
       "    }\n",
       "</style>\n",
       "<table border=\"1\" class=\"dataframe\">\n",
       "  <thead>\n",
       "    <tr style=\"text-align: right;\">\n",
       "      <th></th>\n",
       "      <th>datetime</th>\n",
       "      <th>joursem</th>\n",
       "      <th>isoweek</th>\n",
       "      <th>an</th>\n",
       "      <th>datelag</th>\n",
       "      <th>lagbefore</th>\n",
       "      <th>lagafter</th>\n",
       "      <th>Saison</th>\n",
       "      <th>Problème</th>\n",
       "    </tr>\n",
       "  </thead>\n",
       "  <tbody>\n",
       "    <tr>\n",
       "      <th>56</th>\n",
       "      <td>2011-05-02</td>\n",
       "      <td>0</td>\n",
       "      <td>18</td>\n",
       "      <td>2011</td>\n",
       "      <td>0.0</td>\n",
       "      <td>9.0</td>\n",
       "      <td>0.0</td>\n",
       "      <td>2</td>\n",
       "      <td>True</td>\n",
       "    </tr>\n",
       "    <tr>\n",
       "      <th>57</th>\n",
       "      <td>2011-05-03</td>\n",
       "      <td>1</td>\n",
       "      <td>18</td>\n",
       "      <td>2011</td>\n",
       "      <td>0.0</td>\n",
       "      <td>0.0</td>\n",
       "      <td>1.0</td>\n",
       "      <td>2</td>\n",
       "      <td>True</td>\n",
       "    </tr>\n",
       "    <tr>\n",
       "      <th>58</th>\n",
       "      <td>2011-05-05</td>\n",
       "      <td>3</td>\n",
       "      <td>18</td>\n",
       "      <td>2011</td>\n",
       "      <td>0.0</td>\n",
       "      <td>1.0</td>\n",
       "      <td>0.0</td>\n",
       "      <td>2</td>\n",
       "      <td>True</td>\n",
       "    </tr>\n",
       "    <tr>\n",
       "      <th>59</th>\n",
       "      <td>2011-05-06</td>\n",
       "      <td>4</td>\n",
       "      <td>18</td>\n",
       "      <td>2011</td>\n",
       "      <td>0.0</td>\n",
       "      <td>0.0</td>\n",
       "      <td>2.0</td>\n",
       "      <td>2</td>\n",
       "      <td>True</td>\n",
       "    </tr>\n",
       "    <tr>\n",
       "      <th>992</th>\n",
       "      <td>2018-04-23</td>\n",
       "      <td>0</td>\n",
       "      <td>17</td>\n",
       "      <td>2018</td>\n",
       "      <td>0.0</td>\n",
       "      <td>2.0</td>\n",
       "      <td>0.0</td>\n",
       "      <td>2</td>\n",
       "      <td>True</td>\n",
       "    </tr>\n",
       "    <tr>\n",
       "      <th>993</th>\n",
       "      <td>2018-04-24</td>\n",
       "      <td>1</td>\n",
       "      <td>17</td>\n",
       "      <td>2018</td>\n",
       "      <td>0.0</td>\n",
       "      <td>0.0</td>\n",
       "      <td>19.0</td>\n",
       "      <td>2</td>\n",
       "      <td>True</td>\n",
       "    </tr>\n",
       "  </tbody>\n",
       "</table>\n",
       "</div>"
      ],
      "text/plain": [
       "      datetime  joursem  isoweek    an  datelag  lagbefore  lagafter  Saison  \\\n",
       "56  2011-05-02        0       18  2011      0.0        9.0       0.0       2   \n",
       "57  2011-05-03        1       18  2011      0.0        0.0       1.0       2   \n",
       "58  2011-05-05        3       18  2011      0.0        1.0       0.0       2   \n",
       "59  2011-05-06        4       18  2011      0.0        0.0       2.0       2   \n",
       "992 2018-04-23        0       17  2018      0.0        2.0       0.0       2   \n",
       "993 2018-04-24        1       17  2018      0.0        0.0      19.0       2   \n",
       "\n",
       "     Problème  \n",
       "56       True  \n",
       "57       True  \n",
       "58       True  \n",
       "59       True  \n",
       "992      True  \n",
       "993      True  "
      ]
     },
     "execution_count": 341,
     "metadata": {},
     "output_type": "execute_result"
    }
   ],
   "source": [
    "df_calend3[df_calend3['Problème']==True]"
   ]
  },
  {
   "cell_type": "code",
   "execution_count": 342,
   "metadata": {},
   "outputs": [
    {
     "data": {
      "text/plain": [
       "Timestamp('2011-01-02 00:00:00')"
      ]
     },
     "execution_count": 342,
     "metadata": {},
     "output_type": "execute_result"
    }
   ],
   "source": [
    "df_calend_official.loc[2011,'Fin_' + cycle_seasons(cal_season(frenchdate('09/01/2011')))]"
   ]
  },
  {
   "cell_type": "code",
   "execution_count": 343,
   "metadata": {},
   "outputs": [],
   "source": [
    "df_calend3['durée_DepuisVac'] = df_calend3['datetime'].apply(lambda date1 : (date1 - df_calend_official.loc[date1.year,'Fin_' + cycle_seasons(cal_season(date1))]).days)"
   ]
  },
  {
   "cell_type": "code",
   "execution_count": 344,
   "metadata": {},
   "outputs": [],
   "source": [
    "df_calend3['durée_AvantVac'] = df_calend3['datetime'].apply(lambda date1 : (df_calend_official.loc[date1.year,'Deb_' + cycle_seasons(cal_season(date1)+1)] - date1).days)"
   ]
  },
  {
   "cell_type": "code",
   "execution_count": 347,
   "metadata": {},
   "outputs": [
    {
     "data": {
      "text/plain": [
       "Index(['datetime', 'joursem', 'isoweek', 'an', 'datelag', 'lagbefore',\n",
       "       'lagafter', 'Saison', 'Problème', 'durée_DepuisVac', 'durée_AvantVac'],\n",
       "      dtype='object')"
      ]
     },
     "execution_count": 347,
     "metadata": {},
     "output_type": "execute_result"
    }
   ],
   "source": [
    "df_calend3.keys()"
   ]
  },
  {
   "cell_type": "code",
   "execution_count": 348,
   "metadata": {},
   "outputs": [],
   "source": [
    "df_calend3[['datetime', 'Saison', 'Problème', 'durée_DepuisVac', 'durée_AvantVac']].to_csv('calendrier_saisons_vacances')"
   ]
  }
 ],
 "metadata": {
  "kernelspec": {
   "display_name": "Python 3",
   "language": "python",
   "name": "python3"
  },
  "language_info": {
   "codemirror_mode": {
    "name": "ipython",
    "version": 3
   },
   "file_extension": ".py",
   "mimetype": "text/x-python",
   "name": "python",
   "nbconvert_exporter": "python",
   "pygments_lexer": "ipython3",
   "version": "3.10.11"
  },
  "orig_nbformat": 4,
  "vscode": {
   "interpreter": {
    "hash": "6cd296cbf4053a518fd76b85d2c9ab905c5973094489634866e40cbfd15a8405"
   }
  }
 },
 "nbformat": 4,
 "nbformat_minor": 2
}
